{
 "cells": [
  {
   "cell_type": "code",
   "execution_count": 9,
   "metadata": {},
   "outputs": [],
   "source": [
    "from tensorflow.config import list_physical_devices\n",
    "from tensorflow.keras import mixed_precision\n",
    "from tensorflow.config.experimental import set_memory_growth\n",
    "from tensorflow.keras import callbacks"
   ]
  },
  {
   "cell_type": "markdown",
   "metadata": {},
   "source": [
    "### Variables set up"
   ]
  },
  {
   "cell_type": "code",
   "execution_count": 2,
   "metadata": {},
   "outputs": [],
   "source": [
    "MAX_LEN = 512\n",
    "NUM_HEAD = 8\n",
    "FF_DIM = 1024\n",
    "NUM_LAYERS = 8\n",
    "EMBED_DIM = 256\n",
    "\n",
    "BATCH_SIZE = 256\n",
    "LR = 0.0004"
   ]
  },
  {
   "cell_type": "markdown",
   "metadata": {},
   "source": [
    "### GPU set up"
   ]
  },
  {
   "cell_type": "code",
   "execution_count": 3,
   "metadata": {},
   "outputs": [
    {
     "name": "stdout",
     "output_type": "stream",
     "text": [
      "INFO:tensorflow:Mixed precision compatibility check (mixed_float16): OK\n",
      "Your GPU will likely run quickly with dtype policy mixed_float16 as it has compute capability of at least 7.0. Your GPU: NVIDIA GeForce RTX 3090, compute capability 8.6\n"
     ]
    },
    {
     "name": "stderr",
     "output_type": "stream",
     "text": [
      "2022-10-17 00:56:34.572685: I tensorflow/stream_executor/cuda/cuda_gpu_executor.cc:975] successful NUMA node read from SysFS had negative value (-1), but there must be at least one NUMA node, so returning NUMA node zero\n",
      "2022-10-17 00:56:34.577491: I tensorflow/stream_executor/cuda/cuda_gpu_executor.cc:975] successful NUMA node read from SysFS had negative value (-1), but there must be at least one NUMA node, so returning NUMA node zero\n",
      "2022-10-17 00:56:34.577824: I tensorflow/stream_executor/cuda/cuda_gpu_executor.cc:975] successful NUMA node read from SysFS had negative value (-1), but there must be at least one NUMA node, so returning NUMA node zero\n",
      "2022-10-17 00:56:34.578643: I tensorflow/stream_executor/cuda/cuda_gpu_executor.cc:975] successful NUMA node read from SysFS had negative value (-1), but there must be at least one NUMA node, so returning NUMA node zero\n"
     ]
    }
   ],
   "source": [
    "gpus = list_physical_devices('GPU')\n",
    "if gpus:\n",
    "    for gpu in gpus:\n",
    "        set_memory_growth(gpu, True)\n",
    "mixed_precision.set_global_policy('mixed_float16')"
   ]
  },
  {
   "cell_type": "markdown",
   "metadata": {},
   "source": [
    "# Pre-processing"
   ]
  },
  {
   "cell_type": "code",
   "execution_count": 4,
   "metadata": {},
   "outputs": [],
   "source": [
    "from os import listdir\n",
    "import gdown\n",
    "from processing import load_dicts, count_samples, data_generator"
   ]
  },
  {
   "cell_type": "markdown",
   "metadata": {},
   "source": [
    "### Download the data"
   ]
  },
  {
   "cell_type": "code",
   "execution_count": 5,
   "metadata": {},
   "outputs": [],
   "source": [
    "folder_url = 'https://drive.google.com/drive/folders/1rk9HhT6OtrGlqC2ZGT0eREFc8FH2F8QJ?usp=sharing'\n",
    "if 'data' not in listdir():\n",
    "    gdown.download_folder(folder_url)\n",
    "    ! mv char_paragraphs data"
   ]
  },
  {
   "cell_type": "markdown",
   "metadata": {},
   "source": [
    "### Load the dictionaries"
   ]
  },
  {
   "cell_type": "code",
   "execution_count": 6,
   "metadata": {},
   "outputs": [],
   "source": [
    "char2idx, idx2char = load_dicts()\n",
    "MASK_ID = len(char2idx)\n",
    "VOCAB_SIZE = MASK_ID"
   ]
  },
  {
   "cell_type": "markdown",
   "metadata": {},
   "source": [
    "### Make data generators"
   ]
  },
  {
   "cell_type": "code",
   "execution_count": 7,
   "metadata": {},
   "outputs": [
    {
     "name": "stdout",
     "output_type": "stream",
     "text": [
      " Train, Val, Test\n",
      " 1159732 144965 144969\n"
     ]
    }
   ],
   "source": [
    "N_TRAIN = count_samples('data/train_paragraphs.txt')\n",
    "N_STEPS = int(N_TRAIN/BATCH_SIZE)+1\n",
    "N_VAL = count_samples('data/val_paragraphs.txt')\n",
    "N_STEPS_VAL= int(N_VAL/BATCH_SIZE)+1\n",
    "N_TEST = count_samples('data/test_paragraphs.txt')\n",
    "N_STEPS_VAL= int(N_TEST/BATCH_SIZE)+1\n",
    "print(' Train, Val, Test\\n', N_TRAIN, N_VAL, N_TEST)"
   ]
  },
  {
   "cell_type": "code",
   "execution_count": 8,
   "metadata": {},
   "outputs": [],
   "source": [
    "train_gen = data_generator('data/train_paragraphs.txt', max_len=512, masking=True, batch_size=256, vocab=char2idx, mask_id=None)\n",
    "val_gen = data_generator('data/val_paragraphs.txt', max_len=512, masking=True, batch_size=256, vocab=char2idx, mask_id=None)\n",
    "test_gen = data_generator('data/test_paragraphs.txt', max_len=512, masking=True, batch_size=256, vocab=char2idx, mask_id=None)"
   ]
  },
  {
   "cell_type": "markdown",
   "metadata": {},
   "source": [
    "# Modeling"
   ]
  },
  {
   "cell_type": "code",
   "execution_count": null,
   "metadata": {},
   "outputs": [],
   "source": [
    "from modeling import ModelConfigurator, MaskedLanguageModel, create_mlm, plot_history"
   ]
  },
  {
   "cell_type": "markdown",
   "metadata": {},
   "source": [
    "### Set up model variables"
   ]
  },
  {
   "cell_type": "code",
   "execution_count": null,
   "metadata": {},
   "outputs": [],
   "source": [
    "mc = ModelConfigurator(\n",
    "    MAX_LEN,NUM_HEAD,\n",
    "    FF_DIM,\n",
    "    NUM_LAYERS,\n",
    "    EMBED_DIM,\n",
    "    LR)"
   ]
  },
  {
   "cell_type": "markdown",
   "metadata": {},
   "source": [
    "### Create the model"
   ]
  },
  {
   "cell_type": "code",
   "execution_count": null,
   "metadata": {},
   "outputs": [],
   "source": [
    "masked_model = create_mlm(mc, VOCAB_SIZE)\n",
    "masked_model.summary()"
   ]
  },
  {
   "cell_type": "markdown",
   "metadata": {},
   "source": [
    "### Train the model"
   ]
  },
  {
   "cell_type": "code",
   "execution_count": null,
   "metadata": {},
   "outputs": [],
   "source": [
    "def scheduler(epoch, lr):\n",
    "    if epoch < 25:\n",
    "        lr = LR\n",
    "    elif epoch < 50:\n",
    "        lr = LR/6\n",
    "    else:\n",
    "        lr = LR/36\n",
    "    return lr\n",
    "lr_callback = callbacks.LearningRateScheduler(scheduler)\n",
    "\n",
    "\n",
    "checkpoint = callbacks.ModelCheckpoint(\n",
    "    filepath='models/TF_char_6412k',\n",
    "    monitor='val_loss',\n",
    "    verbose=1,\n",
    "    save_best_only=True,\n",
    "    mode='min'\n",
    "    )\n",
    "\n",
    "hist = masked_model.fit(\n",
    "    train_gen, epochs=70,\n",
    "    steps_per_epoch=N_STEPS,\n",
    "    validation_steps=N_STEPS_VAL,\n",
    "    validation_data=val_gen,\n",
    "    callbacks=[lr_callback, checkpoint]\n",
    "    )"
   ]
  },
  {
   "cell_type": "markdown",
   "metadata": {},
   "source": [
    "# Evaluation"
   ]
  },
  {
   "cell_type": "markdown",
   "metadata": {},
   "source": [
    "### Plot training metrics"
   ]
  },
  {
   "cell_type": "code",
   "execution_count": null,
   "metadata": {},
   "outputs": [],
   "source": [
    "plot_history(hist)"
   ]
  },
  {
   "cell_type": "markdown",
   "metadata": {},
   "source": [
    "### Evaluate on test set"
   ]
  },
  {
   "cell_type": "code",
   "execution_count": null,
   "metadata": {},
   "outputs": [],
   "source": [
    "masked_model.evaluate(test_gen, batch_size=BATCH_SIZE)"
   ]
  }
 ],
 "metadata": {
  "kernelspec": {
   "display_name": "Python 3.9.12 ('tf')",
   "language": "python",
   "name": "python3"
  },
  "language_info": {
   "codemirror_mode": {
    "name": "ipython",
    "version": 3
   },
   "file_extension": ".py",
   "mimetype": "text/x-python",
   "name": "python",
   "nbconvert_exporter": "python",
   "pygments_lexer": "ipython3",
   "version": "3.9.12"
  },
  "orig_nbformat": 4,
  "vscode": {
   "interpreter": {
    "hash": "11efdfc52e0f02ce3ff7bcd7d668219934d7618071bbd75fc98a62b6d20d0895"
   }
  }
 },
 "nbformat": 4,
 "nbformat_minor": 2
}

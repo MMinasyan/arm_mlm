{
 "cells": [
  {
   "cell_type": "code",
   "execution_count": null,
   "metadata": {},
   "outputs": [],
   "source": [
    "from tensorflow.config import list_physical_devices\n",
    "from tensorflow.keras import mixed_precision\n",
    "from tensorflow.config.experimental import set_memory_growth"
   ]
  },
  {
   "cell_type": "markdown",
   "metadata": {},
   "source": [
    "### Variables set up"
   ]
  },
  {
   "cell_type": "code",
   "execution_count": null,
   "metadata": {},
   "outputs": [],
   "source": [
    "MAX_LEN = 512\n",
    "NUM_HEAD = 8\n",
    "FF_DIM = 1024\n",
    "NUM_LAYERS = 8\n",
    "EMBED_DIM = 256\n",
    "\n",
    "BATCH_SIZE = 256\n",
    "LR = 0.0004"
   ]
  },
  {
   "cell_type": "markdown",
   "metadata": {},
   "source": [
    "### GPU set up"
   ]
  },
  {
   "cell_type": "code",
   "execution_count": null,
   "metadata": {},
   "outputs": [],
   "source": [
    "gpus = list_physical_devices('GPU')\n",
    "if gpus:\n",
    "    for gpu in gpus:\n",
    "        set_memory_growth(gpu, True)\n",
    "mixed_precision.set_global_policy('mixed_float16')"
   ]
  }
 ],
 "metadata": {
  "kernelspec": {
   "display_name": "Python 3.9.12 ('tf')",
   "language": "python",
   "name": "python3"
  },
  "language_info": {
   "name": "python",
   "version": "3.9.12"
  },
  "orig_nbformat": 4,
  "vscode": {
   "interpreter": {
    "hash": "11efdfc52e0f02ce3ff7bcd7d668219934d7618071bbd75fc98a62b6d20d0895"
   }
  }
 },
 "nbformat": 4,
 "nbformat_minor": 2
}

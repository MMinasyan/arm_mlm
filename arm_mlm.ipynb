{
 "cells": [
  {
   "cell_type": "code",
   "execution_count": 1,
   "metadata": {},
   "outputs": [
    {
     "name": "stderr",
     "output_type": "stream",
     "text": [
      "2022-10-18 18:14:26.012895: I tensorflow/core/util/util.cc:169] oneDNN custom operations are on. You may see slightly different numerical results due to floating-point round-off errors from different computation orders. To turn them off, set the environment variable `TF_ENABLE_ONEDNN_OPTS=0`.\n"
     ]
    }
   ],
   "source": [
    "from tensorflow.config import list_physical_devices\n",
    "from tensorflow.keras import mixed_precision\n",
    "from tensorflow.config.experimental import set_memory_growth\n",
    "from tensorflow.keras import callbacks"
   ]
  },
  {
   "cell_type": "markdown",
   "metadata": {},
   "source": [
    "### Variables set up"
   ]
  },
  {
   "cell_type": "code",
   "execution_count": 2,
   "metadata": {},
   "outputs": [],
   "source": [
    "MAX_LEN = 512\n",
    "NUM_HEAD = 8\n",
    "FF_DIM = 1024\n",
    "NUM_LAYERS = 8\n",
    "EMBED_DIM = 256\n",
    "\n",
    "BATCH_SIZE = 256\n",
    "LR = 0.0004"
   ]
  },
  {
   "cell_type": "markdown",
   "metadata": {},
   "source": [
    "### GPU set up"
   ]
  },
  {
   "cell_type": "code",
   "execution_count": 3,
   "metadata": {},
   "outputs": [
    {
     "name": "stdout",
     "output_type": "stream",
     "text": [
      "INFO:tensorflow:Mixed precision compatibility check (mixed_float16): OK\n",
      "Your GPU will likely run quickly with dtype policy mixed_float16 as it has compute capability of at least 7.0. Your GPU: NVIDIA GeForce RTX 3090, compute capability 8.6\n"
     ]
    },
    {
     "name": "stderr",
     "output_type": "stream",
     "text": [
      "2022-10-18 18:14:27.331918: I tensorflow/stream_executor/cuda/cuda_gpu_executor.cc:975] successful NUMA node read from SysFS had negative value (-1), but there must be at least one NUMA node, so returning NUMA node zero\n",
      "2022-10-18 18:14:27.349077: I tensorflow/stream_executor/cuda/cuda_gpu_executor.cc:975] successful NUMA node read from SysFS had negative value (-1), but there must be at least one NUMA node, so returning NUMA node zero\n",
      "2022-10-18 18:14:27.349777: I tensorflow/stream_executor/cuda/cuda_gpu_executor.cc:975] successful NUMA node read from SysFS had negative value (-1), but there must be at least one NUMA node, so returning NUMA node zero\n",
      "2022-10-18 18:14:27.350896: I tensorflow/stream_executor/cuda/cuda_gpu_executor.cc:975] successful NUMA node read from SysFS had negative value (-1), but there must be at least one NUMA node, so returning NUMA node zero\n"
     ]
    }
   ],
   "source": [
    "gpus = list_physical_devices('GPU')\n",
    "if gpus:\n",
    "    for gpu in gpus:\n",
    "        set_memory_growth(gpu, True)\n",
    "mixed_precision.set_global_policy('mixed_float16')"
   ]
  },
  {
   "cell_type": "markdown",
   "metadata": {},
   "source": [
    "# Pre-processing"
   ]
  },
  {
   "cell_type": "code",
   "execution_count": 4,
   "metadata": {},
   "outputs": [],
   "source": [
    "from os import listdir\n",
    "import gdown\n",
    "from processing import load_dicts, count_samples, data_generator"
   ]
  },
  {
   "cell_type": "markdown",
   "metadata": {},
   "source": [
    "### Download the data"
   ]
  },
  {
   "cell_type": "code",
   "execution_count": 5,
   "metadata": {},
   "outputs": [
    {
     "name": "stderr",
     "output_type": "stream",
     "text": [
      "Retrieving folder list\n"
     ]
    },
    {
     "name": "stdout",
     "output_type": "stream",
     "text": [
      "Processing file 1iXflqpzg-9dIBTs4ZejCTfusgu-dUHpN test_paragraphs.txt\n",
      "Processing file 14s-iXY0PKEOIGtZnX-yweFtgz31owdFG train_paragraphs.txt\n",
      "Processing file 1xASDq01S0Zis8PBNN8ZAUtTD6ZEhso4V val_paragraphs.txt\n",
      "Building directory structure completed\n"
     ]
    },
    {
     "name": "stderr",
     "output_type": "stream",
     "text": [
      "Retrieving folder list completed\n",
      "Building directory structure\n",
      "Downloading...\n",
      "From: https://drive.google.com/uc?id=1iXflqpzg-9dIBTs4ZejCTfusgu-dUHpN\n",
      "To: /home/mkrtich/arm_mlm/char_paragraphs/test_paragraphs.txt\n",
      "100%|██████████| 99.5M/99.5M [00:02<00:00, 33.6MB/s]\n",
      "Downloading...\n",
      "From: https://drive.google.com/uc?id=14s-iXY0PKEOIGtZnX-yweFtgz31owdFG\n",
      "To: /home/mkrtich/arm_mlm/char_paragraphs/train_paragraphs.txt\n",
      "100%|██████████| 799M/799M [00:26<00:00, 30.0MB/s] \n",
      "Downloading...\n",
      "From: https://drive.google.com/uc?id=1xASDq01S0Zis8PBNN8ZAUtTD6ZEhso4V\n",
      "To: /home/mkrtich/arm_mlm/char_paragraphs/val_paragraphs.txt\n",
      "100%|██████████| 99.5M/99.5M [00:02<00:00, 33.3MB/s]"
     ]
    },
    {
     "name": "stdout",
     "output_type": "stream",
     "text": [
      "/bin/bash: /home/mkrtich/miniconda3/envs/tf/lib/libtinfo.so.6: no version information available (required by /bin/bash)\n"
     ]
    },
    {
     "name": "stderr",
     "output_type": "stream",
     "text": [
      "\n",
      "Download completed\n"
     ]
    }
   ],
   "source": [
    "folder_url = 'https://drive.google.com/drive/folders/1rk9HhT6OtrGlqC2ZGT0eREFc8FH2F8QJ?usp=sharing'\n",
    "if 'data' not in listdir():\n",
    "    gdown.download_folder(folder_url)\n",
    "    ! mv char_paragraphs data"
   ]
  },
  {
   "cell_type": "markdown",
   "metadata": {},
   "source": [
    "### Load the dictionaries"
   ]
  },
  {
   "cell_type": "code",
   "execution_count": 6,
   "metadata": {},
   "outputs": [
    {
     "name": "stdout",
     "output_type": "stream",
     "text": [
      "\n",
      "files not existing. created new files.\n",
      "Warning: an older trained model might not work with new character indexing\n"
     ]
    }
   ],
   "source": [
    "char2idx, idx2char = load_dicts()\n",
    "MASK_ID = len(char2idx)\n",
    "VOCAB_SIZE = MASK_ID"
   ]
  },
  {
   "cell_type": "markdown",
   "metadata": {},
   "source": [
    "### Make data generators"
   ]
  },
  {
   "cell_type": "code",
   "execution_count": 7,
   "metadata": {},
   "outputs": [
    {
     "name": "stdout",
     "output_type": "stream",
     "text": [
      " Train, Val, Test\n",
      " 1159732 144965 144969\n"
     ]
    }
   ],
   "source": [
    "N_TRAIN = count_samples('data/train_paragraphs.txt')\n",
    "N_STEPS = int(N_TRAIN/BATCH_SIZE)+1\n",
    "N_VAL = count_samples('data/val_paragraphs.txt')\n",
    "N_STEPS_VAL= int(N_VAL/BATCH_SIZE)+1\n",
    "N_TEST = count_samples('data/test_paragraphs.txt')\n",
    "N_STEPS_TEST= int(N_TEST/BATCH_SIZE)+1\n",
    "print(' Train, Val, Test\\n', N_TRAIN, N_VAL, N_TEST)"
   ]
  },
  {
   "cell_type": "code",
   "execution_count": 8,
   "metadata": {},
   "outputs": [],
   "source": [
    "train_gen = data_generator('data/train_paragraphs.txt', max_len=512, masking=True, batch_size=256, vocab=char2idx, mask_id=None)\n",
    "val_gen = data_generator('data/val_paragraphs.txt', max_len=512, masking=True, batch_size=256, vocab=char2idx, mask_id=None)\n",
    "test_gen = data_generator('data/test_paragraphs.txt', max_len=512, masking=True, batch_size=256, vocab=char2idx, mask_id=None)"
   ]
  },
  {
   "cell_type": "markdown",
   "metadata": {},
   "source": [
    "# Modeling"
   ]
  },
  {
   "cell_type": "code",
   "execution_count": 9,
   "metadata": {},
   "outputs": [
    {
     "name": "stderr",
     "output_type": "stream",
     "text": [
      "2022-10-18 18:15:15.236781: I tensorflow/core/platform/cpu_feature_guard.cc:193] This TensorFlow binary is optimized with oneAPI Deep Neural Network Library (oneDNN) to use the following CPU instructions in performance-critical operations:  AVX2 AVX_VNNI FMA\n",
      "To enable them in other operations, rebuild TensorFlow with the appropriate compiler flags.\n",
      "2022-10-18 18:15:15.238357: I tensorflow/stream_executor/cuda/cuda_gpu_executor.cc:975] successful NUMA node read from SysFS had negative value (-1), but there must be at least one NUMA node, so returning NUMA node zero\n",
      "2022-10-18 18:15:15.239119: I tensorflow/stream_executor/cuda/cuda_gpu_executor.cc:975] successful NUMA node read from SysFS had negative value (-1), but there must be at least one NUMA node, so returning NUMA node zero\n",
      "2022-10-18 18:15:15.239826: I tensorflow/stream_executor/cuda/cuda_gpu_executor.cc:975] successful NUMA node read from SysFS had negative value (-1), but there must be at least one NUMA node, so returning NUMA node zero\n",
      "2022-10-18 18:15:15.616602: I tensorflow/stream_executor/cuda/cuda_gpu_executor.cc:975] successful NUMA node read from SysFS had negative value (-1), but there must be at least one NUMA node, so returning NUMA node zero\n",
      "2022-10-18 18:15:15.617292: I tensorflow/stream_executor/cuda/cuda_gpu_executor.cc:975] successful NUMA node read from SysFS had negative value (-1), but there must be at least one NUMA node, so returning NUMA node zero\n",
      "2022-10-18 18:15:15.617924: I tensorflow/stream_executor/cuda/cuda_gpu_executor.cc:975] successful NUMA node read from SysFS had negative value (-1), but there must be at least one NUMA node, so returning NUMA node zero\n",
      "2022-10-18 18:15:15.618273: I tensorflow/core/common_runtime/gpu/gpu_device.cc:1532] Created device /job:localhost/replica:0/task:0/device:GPU:0 with 22129 MB memory:  -> device: 0, name: NVIDIA GeForce RTX 3090, pci bus id: 0000:01:00.0, compute capability: 8.6\n"
     ]
    }
   ],
   "source": [
    "from modeling import ModelConfigurator, MaskedLanguageModel, create_mlm, plot_history"
   ]
  },
  {
   "cell_type": "markdown",
   "metadata": {},
   "source": [
    "### Set up model variables"
   ]
  },
  {
   "cell_type": "code",
   "execution_count": 10,
   "metadata": {},
   "outputs": [],
   "source": [
    "mc = ModelConfigurator(\n",
    "    MAX_LEN,NUM_HEAD,\n",
    "    FF_DIM,\n",
    "    NUM_LAYERS,\n",
    "    EMBED_DIM,\n",
    "    LR)"
   ]
  },
  {
   "cell_type": "markdown",
   "metadata": {},
   "source": [
    "### Create the model"
   ]
  },
  {
   "cell_type": "code",
   "execution_count": 11,
   "metadata": {},
   "outputs": [
    {
     "name": "stdout",
     "output_type": "stream",
     "text": [
      "Model: \"masked_bert_model\"\n",
      "__________________________________________________________________________________________________\n",
      " Layer (type)                   Output Shape         Param #     Connected to                     \n",
      "==================================================================================================\n",
      " input_1 (InputLayer)           [(None, 512)]        0           []                               \n",
      "                                                                                                  \n",
      " word_embedding (Embedding)     (None, 512, 256)     47360       ['input_1[0][0]']                \n",
      "                                                                                                  \n",
      " tf.__operators__.add (TFOpLamb  (None, 512, 256)    0           ['word_embedding[0][0]']         \n",
      " da)                                                                                              \n",
      "                                                                                                  \n",
      " encoder_0/multiheadattention (  (None, 512, 256)    263168      ['tf.__operators__.add[0][0]',   \n",
      " MultiHeadAttention)                                              'tf.__operators__.add[0][0]',   \n",
      "                                                                  'tf.__operators__.add[0][0]']   \n",
      "                                                                                                  \n",
      " encoder_0/att_dropout (Dropout  (None, 512, 256)    0           ['encoder_0/multiheadattention[0]\n",
      " )                                                               [0]']                            \n",
      "                                                                                                  \n",
      " tf.__operators__.add_1 (TFOpLa  (None, 512, 256)    0           ['tf.__operators__.add[0][0]',   \n",
      " mbda)                                                            'encoder_0/att_dropout[0][0]']  \n",
      "                                                                                                  \n",
      " encoder_0/att_layernormalizati  (None, 512, 256)    512         ['tf.__operators__.add_1[0][0]'] \n",
      " on (LayerNormalization)                                                                          \n",
      "                                                                                                  \n",
      " encoder_0/ffn (Sequential)     (None, 512, 256)     525568      ['encoder_0/att_layernormalizatio\n",
      "                                                                 n[0][0]']                        \n",
      "                                                                                                  \n",
      " encoder_0/ffn_dropout (Dropout  (None, 512, 256)    0           ['encoder_0/ffn[0][0]']          \n",
      " )                                                                                                \n",
      "                                                                                                  \n",
      " tf.__operators__.add_2 (TFOpLa  (None, 512, 256)    0           ['encoder_0/att_layernormalizatio\n",
      " mbda)                                                           n[0][0]',                        \n",
      "                                                                  'encoder_0/ffn_dropout[0][0]']  \n",
      "                                                                                                  \n",
      " encoder_0/ffn_layernormalizati  (None, 512, 256)    512         ['tf.__operators__.add_2[0][0]'] \n",
      " on (LayerNormalization)                                                                          \n",
      "                                                                                                  \n",
      " encoder_1/multiheadattention (  (None, 512, 256)    263168      ['encoder_0/ffn_layernormalizatio\n",
      " MultiHeadAttention)                                             n[0][0]',                        \n",
      "                                                                  'encoder_0/ffn_layernormalizatio\n",
      "                                                                 n[0][0]',                        \n",
      "                                                                  'encoder_0/ffn_layernormalizatio\n",
      "                                                                 n[0][0]']                        \n",
      "                                                                                                  \n",
      " encoder_1/att_dropout (Dropout  (None, 512, 256)    0           ['encoder_1/multiheadattention[0]\n",
      " )                                                               [0]']                            \n",
      "                                                                                                  \n",
      " tf.__operators__.add_3 (TFOpLa  (None, 512, 256)    0           ['encoder_0/ffn_layernormalizatio\n",
      " mbda)                                                           n[0][0]',                        \n",
      "                                                                  'encoder_1/att_dropout[0][0]']  \n",
      "                                                                                                  \n",
      " encoder_1/att_layernormalizati  (None, 512, 256)    512         ['tf.__operators__.add_3[0][0]'] \n",
      " on (LayerNormalization)                                                                          \n",
      "                                                                                                  \n",
      " encoder_1/ffn (Sequential)     (None, 512, 256)     525568      ['encoder_1/att_layernormalizatio\n",
      "                                                                 n[0][0]']                        \n",
      "                                                                                                  \n",
      " encoder_1/ffn_dropout (Dropout  (None, 512, 256)    0           ['encoder_1/ffn[0][0]']          \n",
      " )                                                                                                \n",
      "                                                                                                  \n",
      " tf.__operators__.add_4 (TFOpLa  (None, 512, 256)    0           ['encoder_1/att_layernormalizatio\n",
      " mbda)                                                           n[0][0]',                        \n",
      "                                                                  'encoder_1/ffn_dropout[0][0]']  \n",
      "                                                                                                  \n",
      " encoder_1/ffn_layernormalizati  (None, 512, 256)    512         ['tf.__operators__.add_4[0][0]'] \n",
      " on (LayerNormalization)                                                                          \n",
      "                                                                                                  \n",
      " encoder_2/multiheadattention (  (None, 512, 256)    263168      ['encoder_1/ffn_layernormalizatio\n",
      " MultiHeadAttention)                                             n[0][0]',                        \n",
      "                                                                  'encoder_1/ffn_layernormalizatio\n",
      "                                                                 n[0][0]',                        \n",
      "                                                                  'encoder_1/ffn_layernormalizatio\n",
      "                                                                 n[0][0]']                        \n",
      "                                                                                                  \n",
      " encoder_2/att_dropout (Dropout  (None, 512, 256)    0           ['encoder_2/multiheadattention[0]\n",
      " )                                                               [0]']                            \n",
      "                                                                                                  \n",
      " tf.__operators__.add_5 (TFOpLa  (None, 512, 256)    0           ['encoder_1/ffn_layernormalizatio\n",
      " mbda)                                                           n[0][0]',                        \n",
      "                                                                  'encoder_2/att_dropout[0][0]']  \n",
      "                                                                                                  \n",
      " encoder_2/att_layernormalizati  (None, 512, 256)    512         ['tf.__operators__.add_5[0][0]'] \n",
      " on (LayerNormalization)                                                                          \n",
      "                                                                                                  \n",
      " encoder_2/ffn (Sequential)     (None, 512, 256)     525568      ['encoder_2/att_layernormalizatio\n",
      "                                                                 n[0][0]']                        \n",
      "                                                                                                  \n",
      " encoder_2/ffn_dropout (Dropout  (None, 512, 256)    0           ['encoder_2/ffn[0][0]']          \n",
      " )                                                                                                \n",
      "                                                                                                  \n",
      " tf.__operators__.add_6 (TFOpLa  (None, 512, 256)    0           ['encoder_2/att_layernormalizatio\n",
      " mbda)                                                           n[0][0]',                        \n",
      "                                                                  'encoder_2/ffn_dropout[0][0]']  \n",
      "                                                                                                  \n",
      " encoder_2/ffn_layernormalizati  (None, 512, 256)    512         ['tf.__operators__.add_6[0][0]'] \n",
      " on (LayerNormalization)                                                                          \n",
      "                                                                                                  \n",
      " encoder_3/multiheadattention (  (None, 512, 256)    263168      ['encoder_2/ffn_layernormalizatio\n",
      " MultiHeadAttention)                                             n[0][0]',                        \n",
      "                                                                  'encoder_2/ffn_layernormalizatio\n",
      "                                                                 n[0][0]',                        \n",
      "                                                                  'encoder_2/ffn_layernormalizatio\n",
      "                                                                 n[0][0]']                        \n",
      "                                                                                                  \n",
      " encoder_3/att_dropout (Dropout  (None, 512, 256)    0           ['encoder_3/multiheadattention[0]\n",
      " )                                                               [0]']                            \n",
      "                                                                                                  \n",
      " tf.__operators__.add_7 (TFOpLa  (None, 512, 256)    0           ['encoder_2/ffn_layernormalizatio\n",
      " mbda)                                                           n[0][0]',                        \n",
      "                                                                  'encoder_3/att_dropout[0][0]']  \n",
      "                                                                                                  \n",
      " encoder_3/att_layernormalizati  (None, 512, 256)    512         ['tf.__operators__.add_7[0][0]'] \n",
      " on (LayerNormalization)                                                                          \n",
      "                                                                                                  \n",
      " encoder_3/ffn (Sequential)     (None, 512, 256)     525568      ['encoder_3/att_layernormalizatio\n",
      "                                                                 n[0][0]']                        \n",
      "                                                                                                  \n",
      " encoder_3/ffn_dropout (Dropout  (None, 512, 256)    0           ['encoder_3/ffn[0][0]']          \n",
      " )                                                                                                \n",
      "                                                                                                  \n",
      " tf.__operators__.add_8 (TFOpLa  (None, 512, 256)    0           ['encoder_3/att_layernormalizatio\n",
      " mbda)                                                           n[0][0]',                        \n",
      "                                                                  'encoder_3/ffn_dropout[0][0]']  \n",
      "                                                                                                  \n",
      " encoder_3/ffn_layernormalizati  (None, 512, 256)    512         ['tf.__operators__.add_8[0][0]'] \n",
      " on (LayerNormalization)                                                                          \n",
      "                                                                                                  \n",
      " encoder_4/multiheadattention (  (None, 512, 256)    263168      ['encoder_3/ffn_layernormalizatio\n",
      " MultiHeadAttention)                                             n[0][0]',                        \n",
      "                                                                  'encoder_3/ffn_layernormalizatio\n",
      "                                                                 n[0][0]',                        \n",
      "                                                                  'encoder_3/ffn_layernormalizatio\n",
      "                                                                 n[0][0]']                        \n",
      "                                                                                                  \n",
      " encoder_4/att_dropout (Dropout  (None, 512, 256)    0           ['encoder_4/multiheadattention[0]\n",
      " )                                                               [0]']                            \n",
      "                                                                                                  \n",
      " tf.__operators__.add_9 (TFOpLa  (None, 512, 256)    0           ['encoder_3/ffn_layernormalizatio\n",
      " mbda)                                                           n[0][0]',                        \n",
      "                                                                  'encoder_4/att_dropout[0][0]']  \n",
      "                                                                                                  \n",
      " encoder_4/att_layernormalizati  (None, 512, 256)    512         ['tf.__operators__.add_9[0][0]'] \n",
      " on (LayerNormalization)                                                                          \n",
      "                                                                                                  \n",
      " encoder_4/ffn (Sequential)     (None, 512, 256)     525568      ['encoder_4/att_layernormalizatio\n",
      "                                                                 n[0][0]']                        \n",
      "                                                                                                  \n",
      " encoder_4/ffn_dropout (Dropout  (None, 512, 256)    0           ['encoder_4/ffn[0][0]']          \n",
      " )                                                                                                \n",
      "                                                                                                  \n",
      " tf.__operators__.add_10 (TFOpL  (None, 512, 256)    0           ['encoder_4/att_layernormalizatio\n",
      " ambda)                                                          n[0][0]',                        \n",
      "                                                                  'encoder_4/ffn_dropout[0][0]']  \n",
      "                                                                                                  \n",
      " encoder_4/ffn_layernormalizati  (None, 512, 256)    512         ['tf.__operators__.add_10[0][0]']\n",
      " on (LayerNormalization)                                                                          \n",
      "                                                                                                  \n",
      " encoder_5/multiheadattention (  (None, 512, 256)    263168      ['encoder_4/ffn_layernormalizatio\n",
      " MultiHeadAttention)                                             n[0][0]',                        \n",
      "                                                                  'encoder_4/ffn_layernormalizatio\n",
      "                                                                 n[0][0]',                        \n",
      "                                                                  'encoder_4/ffn_layernormalizatio\n",
      "                                                                 n[0][0]']                        \n",
      "                                                                                                  \n",
      " encoder_5/att_dropout (Dropout  (None, 512, 256)    0           ['encoder_5/multiheadattention[0]\n",
      " )                                                               [0]']                            \n",
      "                                                                                                  \n",
      " tf.__operators__.add_11 (TFOpL  (None, 512, 256)    0           ['encoder_4/ffn_layernormalizatio\n",
      " ambda)                                                          n[0][0]',                        \n",
      "                                                                  'encoder_5/att_dropout[0][0]']  \n",
      "                                                                                                  \n",
      " encoder_5/att_layernormalizati  (None, 512, 256)    512         ['tf.__operators__.add_11[0][0]']\n",
      " on (LayerNormalization)                                                                          \n",
      "                                                                                                  \n",
      " encoder_5/ffn (Sequential)     (None, 512, 256)     525568      ['encoder_5/att_layernormalizatio\n",
      "                                                                 n[0][0]']                        \n",
      "                                                                                                  \n",
      " encoder_5/ffn_dropout (Dropout  (None, 512, 256)    0           ['encoder_5/ffn[0][0]']          \n",
      " )                                                                                                \n",
      "                                                                                                  \n",
      " tf.__operators__.add_12 (TFOpL  (None, 512, 256)    0           ['encoder_5/att_layernormalizatio\n",
      " ambda)                                                          n[0][0]',                        \n",
      "                                                                  'encoder_5/ffn_dropout[0][0]']  \n",
      "                                                                                                  \n",
      " encoder_5/ffn_layernormalizati  (None, 512, 256)    512         ['tf.__operators__.add_12[0][0]']\n",
      " on (LayerNormalization)                                                                          \n",
      "                                                                                                  \n",
      " encoder_6/multiheadattention (  (None, 512, 256)    263168      ['encoder_5/ffn_layernormalizatio\n",
      " MultiHeadAttention)                                             n[0][0]',                        \n",
      "                                                                  'encoder_5/ffn_layernormalizatio\n",
      "                                                                 n[0][0]',                        \n",
      "                                                                  'encoder_5/ffn_layernormalizatio\n",
      "                                                                 n[0][0]']                        \n",
      "                                                                                                  \n",
      " encoder_6/att_dropout (Dropout  (None, 512, 256)    0           ['encoder_6/multiheadattention[0]\n",
      " )                                                               [0]']                            \n",
      "                                                                                                  \n",
      " tf.__operators__.add_13 (TFOpL  (None, 512, 256)    0           ['encoder_5/ffn_layernormalizatio\n",
      " ambda)                                                          n[0][0]',                        \n",
      "                                                                  'encoder_6/att_dropout[0][0]']  \n",
      "                                                                                                  \n",
      " encoder_6/att_layernormalizati  (None, 512, 256)    512         ['tf.__operators__.add_13[0][0]']\n",
      " on (LayerNormalization)                                                                          \n",
      "                                                                                                  \n",
      " encoder_6/ffn (Sequential)     (None, 512, 256)     525568      ['encoder_6/att_layernormalizatio\n",
      "                                                                 n[0][0]']                        \n",
      "                                                                                                  \n",
      " encoder_6/ffn_dropout (Dropout  (None, 512, 256)    0           ['encoder_6/ffn[0][0]']          \n",
      " )                                                                                                \n",
      "                                                                                                  \n",
      " tf.__operators__.add_14 (TFOpL  (None, 512, 256)    0           ['encoder_6/att_layernormalizatio\n",
      " ambda)                                                          n[0][0]',                        \n",
      "                                                                  'encoder_6/ffn_dropout[0][0]']  \n",
      "                                                                                                  \n",
      " encoder_6/ffn_layernormalizati  (None, 512, 256)    512         ['tf.__operators__.add_14[0][0]']\n",
      " on (LayerNormalization)                                                                          \n",
      "                                                                                                  \n",
      " encoder_7/multiheadattention (  (None, 512, 256)    263168      ['encoder_6/ffn_layernormalizatio\n",
      " MultiHeadAttention)                                             n[0][0]',                        \n",
      "                                                                  'encoder_6/ffn_layernormalizatio\n",
      "                                                                 n[0][0]',                        \n",
      "                                                                  'encoder_6/ffn_layernormalizatio\n",
      "                                                                 n[0][0]']                        \n",
      "                                                                                                  \n",
      " encoder_7/att_dropout (Dropout  (None, 512, 256)    0           ['encoder_7/multiheadattention[0]\n",
      " )                                                               [0]']                            \n",
      "                                                                                                  \n",
      " tf.__operators__.add_15 (TFOpL  (None, 512, 256)    0           ['encoder_6/ffn_layernormalizatio\n",
      " ambda)                                                          n[0][0]',                        \n",
      "                                                                  'encoder_7/att_dropout[0][0]']  \n",
      "                                                                                                  \n",
      " encoder_7/att_layernormalizati  (None, 512, 256)    512         ['tf.__operators__.add_15[0][0]']\n",
      " on (LayerNormalization)                                                                          \n",
      "                                                                                                  \n",
      " encoder_7/ffn (Sequential)     (None, 512, 256)     525568      ['encoder_7/att_layernormalizatio\n",
      "                                                                 n[0][0]']                        \n",
      "                                                                                                  \n",
      " encoder_7/ffn_dropout (Dropout  (None, 512, 256)    0           ['encoder_7/ffn[0][0]']          \n",
      " )                                                                                                \n",
      "                                                                                                  \n",
      " tf.__operators__.add_16 (TFOpL  (None, 512, 256)    0           ['encoder_7/att_layernormalizatio\n",
      " ambda)                                                          n[0][0]',                        \n",
      "                                                                  'encoder_7/ffn_dropout[0][0]']  \n",
      "                                                                                                  \n",
      " encoder_7/ffn_layernormalizati  (None, 512, 256)    512         ['tf.__operators__.add_16[0][0]']\n",
      " on (LayerNormalization)                                                                          \n",
      "                                                                                                  \n",
      " mlm_cls (Dense)                (None, 512, 185)     47545       ['encoder_7/ffn_layernormalizatio\n",
      "                                                                 n[0][0]']                        \n",
      "                                                                                                  \n",
      "==================================================================================================\n",
      "Total params: 6,412,985\n",
      "Trainable params: 6,412,985\n",
      "Non-trainable params: 0\n",
      "__________________________________________________________________________________________________\n"
     ]
    }
   ],
   "source": [
    "masked_model = create_mlm(mc, VOCAB_SIZE)\n",
    "masked_model.summary()"
   ]
  },
  {
   "cell_type": "markdown",
   "metadata": {},
   "source": [
    "### Train the model"
   ]
  },
  {
   "cell_type": "code",
   "execution_count": 12,
   "metadata": {},
   "outputs": [
    {
     "name": "stdout",
     "output_type": "stream",
     "text": [
      "Epoch 1/65\n",
      "4531/4531 [==============================] - ETA: 0s - loss: 2.0213 - accuracy: 0.2678\n",
      "Epoch 1: val_loss improved from inf to 0.90695, saving model to models/TF_char_6412k\n"
     ]
    },
    {
     "name": "stderr",
     "output_type": "stream",
     "text": [
      "WARNING:absl:Found untraced functions such as query_layer_call_fn, query_layer_call_and_return_conditional_losses, key_layer_call_fn, key_layer_call_and_return_conditional_losses, value_layer_call_fn while saving (showing 5 of 96). These functions will not be directly callable after loading.\n"
     ]
    },
    {
     "name": "stdout",
     "output_type": "stream",
     "text": [
      "INFO:tensorflow:Assets written to: models/TF_char_6412k/assets\n"
     ]
    },
    {
     "name": "stderr",
     "output_type": "stream",
     "text": [
      "INFO:tensorflow:Assets written to: models/TF_char_6412k/assets\n"
     ]
    },
    {
     "name": "stdout",
     "output_type": "stream",
     "text": [
      "4531/4531 [==============================] - 3303s 728ms/step - loss: 2.0213 - accuracy: 0.2679 - val_loss: 0.9069 - val_accuracy: 0.7399 - lr: 4.0000e-04\n",
      "Epoch 2/65\n",
      "4531/4531 [==============================] - ETA: 0s - loss: 0.7824 - accuracy: 0.7491\n",
      "Epoch 2: val_loss improved from 0.90695 to 0.56812, saving model to models/TF_char_6412k\n"
     ]
    },
    {
     "name": "stderr",
     "output_type": "stream",
     "text": [
      "WARNING:absl:Found untraced functions such as query_layer_call_fn, query_layer_call_and_return_conditional_losses, key_layer_call_fn, key_layer_call_and_return_conditional_losses, value_layer_call_fn while saving (showing 5 of 96). These functions will not be directly callable after loading.\n"
     ]
    },
    {
     "name": "stdout",
     "output_type": "stream",
     "text": [
      "INFO:tensorflow:Assets written to: models/TF_char_6412k/assets\n"
     ]
    },
    {
     "name": "stderr",
     "output_type": "stream",
     "text": [
      "INFO:tensorflow:Assets written to: models/TF_char_6412k/assets\n"
     ]
    },
    {
     "name": "stdout",
     "output_type": "stream",
     "text": [
      "4531/4531 [==============================] - 3305s 729ms/step - loss: 0.7824 - accuracy: 0.7491 - val_loss: 0.5681 - val_accuracy: 0.8363 - lr: 4.0000e-04\n",
      "Epoch 3/65\n",
      "4531/4531 [==============================] - ETA: 0s - loss: 0.5684 - accuracy: 0.8264\n",
      "Epoch 3: val_loss improved from 0.56812 to 0.45074, saving model to models/TF_char_6412k\n"
     ]
    },
    {
     "name": "stderr",
     "output_type": "stream",
     "text": [
      "WARNING:absl:Found untraced functions such as query_layer_call_fn, query_layer_call_and_return_conditional_losses, key_layer_call_fn, key_layer_call_and_return_conditional_losses, value_layer_call_fn while saving (showing 5 of 96). These functions will not be directly callable after loading.\n"
     ]
    },
    {
     "name": "stdout",
     "output_type": "stream",
     "text": [
      "INFO:tensorflow:Assets written to: models/TF_char_6412k/assets\n"
     ]
    },
    {
     "name": "stderr",
     "output_type": "stream",
     "text": [
      "INFO:tensorflow:Assets written to: models/TF_char_6412k/assets\n"
     ]
    },
    {
     "name": "stdout",
     "output_type": "stream",
     "text": [
      "4531/4531 [==============================] - 3296s 727ms/step - loss: 0.5684 - accuracy: 0.8264 - val_loss: 0.4507 - val_accuracy: 0.8703 - lr: 4.0000e-04\n",
      "Epoch 4/65\n",
      "4531/4531 [==============================] - ETA: 0s - loss: 0.4799 - accuracy: 0.8562\n",
      "Epoch 4: val_loss improved from 0.45074 to 0.39126, saving model to models/TF_char_6412k\n"
     ]
    },
    {
     "name": "stderr",
     "output_type": "stream",
     "text": [
      "WARNING:absl:Found untraced functions such as query_layer_call_fn, query_layer_call_and_return_conditional_losses, key_layer_call_fn, key_layer_call_and_return_conditional_losses, value_layer_call_fn while saving (showing 5 of 96). These functions will not be directly callable after loading.\n"
     ]
    },
    {
     "name": "stdout",
     "output_type": "stream",
     "text": [
      "INFO:tensorflow:Assets written to: models/TF_char_6412k/assets\n"
     ]
    },
    {
     "name": "stderr",
     "output_type": "stream",
     "text": [
      "INFO:tensorflow:Assets written to: models/TF_char_6412k/assets\n"
     ]
    },
    {
     "name": "stdout",
     "output_type": "stream",
     "text": [
      "4531/4531 [==============================] - 3299s 728ms/step - loss: 0.4799 - accuracy: 0.8562 - val_loss: 0.3913 - val_accuracy: 0.8861 - lr: 4.0000e-04\n",
      "Epoch 5/65\n",
      "4531/4531 [==============================] - ETA: 0s - loss: 0.4318 - accuracy: 0.8717\n",
      "Epoch 5: val_loss improved from 0.39126 to 0.35758, saving model to models/TF_char_6412k\n"
     ]
    },
    {
     "name": "stderr",
     "output_type": "stream",
     "text": [
      "WARNING:absl:Found untraced functions such as query_layer_call_fn, query_layer_call_and_return_conditional_losses, key_layer_call_fn, key_layer_call_and_return_conditional_losses, value_layer_call_fn while saving (showing 5 of 96). These functions will not be directly callable after loading.\n"
     ]
    },
    {
     "name": "stdout",
     "output_type": "stream",
     "text": [
      "INFO:tensorflow:Assets written to: models/TF_char_6412k/assets\n"
     ]
    },
    {
     "name": "stderr",
     "output_type": "stream",
     "text": [
      "INFO:tensorflow:Assets written to: models/TF_char_6412k/assets\n"
     ]
    },
    {
     "name": "stdout",
     "output_type": "stream",
     "text": [
      "4531/4531 [==============================] - 3285s 725ms/step - loss: 0.4318 - accuracy: 0.8717 - val_loss: 0.3576 - val_accuracy: 0.8956 - lr: 4.0000e-04\n",
      "Epoch 6/65\n",
      "4531/4531 [==============================] - ETA: 0s - loss: 0.4003 - accuracy: 0.8814\n",
      "Epoch 6: val_loss improved from 0.35758 to 0.33567, saving model to models/TF_char_6412k\n"
     ]
    },
    {
     "name": "stderr",
     "output_type": "stream",
     "text": [
      "WARNING:absl:Found untraced functions such as query_layer_call_fn, query_layer_call_and_return_conditional_losses, key_layer_call_fn, key_layer_call_and_return_conditional_losses, value_layer_call_fn while saving (showing 5 of 96). These functions will not be directly callable after loading.\n"
     ]
    },
    {
     "name": "stdout",
     "output_type": "stream",
     "text": [
      "INFO:tensorflow:Assets written to: models/TF_char_6412k/assets\n"
     ]
    },
    {
     "name": "stderr",
     "output_type": "stream",
     "text": [
      "INFO:tensorflow:Assets written to: models/TF_char_6412k/assets\n"
     ]
    },
    {
     "name": "stdout",
     "output_type": "stream",
     "text": [
      "4531/4531 [==============================] - 3285s 725ms/step - loss: 0.4003 - accuracy: 0.8814 - val_loss: 0.3357 - val_accuracy: 0.9024 - lr: 4.0000e-04\n",
      "Epoch 7/65\n",
      "4531/4531 [==============================] - ETA: 0s - loss: 0.3779 - accuracy: 0.8882\n",
      "Epoch 7: val_loss improved from 0.33567 to 0.31618, saving model to models/TF_char_6412k\n"
     ]
    },
    {
     "name": "stderr",
     "output_type": "stream",
     "text": [
      "WARNING:absl:Found untraced functions such as query_layer_call_fn, query_layer_call_and_return_conditional_losses, key_layer_call_fn, key_layer_call_and_return_conditional_losses, value_layer_call_fn while saving (showing 5 of 96). These functions will not be directly callable after loading.\n"
     ]
    },
    {
     "name": "stdout",
     "output_type": "stream",
     "text": [
      "INFO:tensorflow:Assets written to: models/TF_char_6412k/assets\n"
     ]
    },
    {
     "name": "stderr",
     "output_type": "stream",
     "text": [
      "INFO:tensorflow:Assets written to: models/TF_char_6412k/assets\n"
     ]
    },
    {
     "name": "stdout",
     "output_type": "stream",
     "text": [
      "4531/4531 [==============================] - 3285s 725ms/step - loss: 0.3779 - accuracy: 0.8882 - val_loss: 0.3162 - val_accuracy: 0.9074 - lr: 4.0000e-04\n",
      "Epoch 8/65\n",
      "4531/4531 [==============================] - ETA: 0s - loss: 0.3604 - accuracy: 0.8935\n",
      "Epoch 8: val_loss improved from 0.31618 to 0.30695, saving model to models/TF_char_6412k\n"
     ]
    },
    {
     "name": "stderr",
     "output_type": "stream",
     "text": [
      "WARNING:absl:Found untraced functions such as query_layer_call_fn, query_layer_call_and_return_conditional_losses, key_layer_call_fn, key_layer_call_and_return_conditional_losses, value_layer_call_fn while saving (showing 5 of 96). These functions will not be directly callable after loading.\n"
     ]
    },
    {
     "name": "stdout",
     "output_type": "stream",
     "text": [
      "INFO:tensorflow:Assets written to: models/TF_char_6412k/assets\n"
     ]
    },
    {
     "name": "stderr",
     "output_type": "stream",
     "text": [
      "INFO:tensorflow:Assets written to: models/TF_char_6412k/assets\n"
     ]
    },
    {
     "name": "stdout",
     "output_type": "stream",
     "text": [
      "4531/4531 [==============================] - 3285s 725ms/step - loss: 0.3604 - accuracy: 0.8935 - val_loss: 0.3069 - val_accuracy: 0.9110 - lr: 4.0000e-04\n",
      "Epoch 9/65\n",
      "4531/4531 [==============================] - ETA: 0s - loss: 0.3467 - accuracy: 0.8977\n",
      "Epoch 9: val_loss improved from 0.30695 to 0.29306, saving model to models/TF_char_6412k\n"
     ]
    },
    {
     "name": "stderr",
     "output_type": "stream",
     "text": [
      "WARNING:absl:Found untraced functions such as query_layer_call_fn, query_layer_call_and_return_conditional_losses, key_layer_call_fn, key_layer_call_and_return_conditional_losses, value_layer_call_fn while saving (showing 5 of 96). These functions will not be directly callable after loading.\n"
     ]
    },
    {
     "name": "stdout",
     "output_type": "stream",
     "text": [
      "INFO:tensorflow:Assets written to: models/TF_char_6412k/assets\n"
     ]
    },
    {
     "name": "stderr",
     "output_type": "stream",
     "text": [
      "INFO:tensorflow:Assets written to: models/TF_char_6412k/assets\n"
     ]
    },
    {
     "name": "stdout",
     "output_type": "stream",
     "text": [
      "4531/4531 [==============================] - 3284s 725ms/step - loss: 0.3467 - accuracy: 0.8977 - val_loss: 0.2931 - val_accuracy: 0.9148 - lr: 4.0000e-04\n",
      "Epoch 10/65\n",
      "4531/4531 [==============================] - ETA: 0s - loss: 0.3357 - accuracy: 0.9009\n",
      "Epoch 10: val_loss improved from 0.29306 to 0.28395, saving model to models/TF_char_6412k\n"
     ]
    },
    {
     "name": "stderr",
     "output_type": "stream",
     "text": [
      "WARNING:absl:Found untraced functions such as query_layer_call_fn, query_layer_call_and_return_conditional_losses, key_layer_call_fn, key_layer_call_and_return_conditional_losses, value_layer_call_fn while saving (showing 5 of 96). These functions will not be directly callable after loading.\n"
     ]
    },
    {
     "name": "stdout",
     "output_type": "stream",
     "text": [
      "INFO:tensorflow:Assets written to: models/TF_char_6412k/assets\n"
     ]
    },
    {
     "name": "stderr",
     "output_type": "stream",
     "text": [
      "INFO:tensorflow:Assets written to: models/TF_char_6412k/assets\n"
     ]
    },
    {
     "name": "stdout",
     "output_type": "stream",
     "text": [
      "4531/4531 [==============================] - 3283s 725ms/step - loss: 0.3357 - accuracy: 0.9009 - val_loss: 0.2839 - val_accuracy: 0.9169 - lr: 4.0000e-04\n",
      "Epoch 11/65\n",
      "4531/4531 [==============================] - ETA: 0s - loss: 0.3266 - accuracy: 0.9037\n",
      "Epoch 11: val_loss improved from 0.28395 to 0.27746, saving model to models/TF_char_6412k\n"
     ]
    },
    {
     "name": "stderr",
     "output_type": "stream",
     "text": [
      "WARNING:absl:Found untraced functions such as query_layer_call_fn, query_layer_call_and_return_conditional_losses, key_layer_call_fn, key_layer_call_and_return_conditional_losses, value_layer_call_fn while saving (showing 5 of 96). These functions will not be directly callable after loading.\n"
     ]
    },
    {
     "name": "stdout",
     "output_type": "stream",
     "text": [
      "INFO:tensorflow:Assets written to: models/TF_char_6412k/assets\n"
     ]
    },
    {
     "name": "stderr",
     "output_type": "stream",
     "text": [
      "INFO:tensorflow:Assets written to: models/TF_char_6412k/assets\n"
     ]
    },
    {
     "name": "stdout",
     "output_type": "stream",
     "text": [
      "4531/4531 [==============================] - 3239s 715ms/step - loss: 0.3266 - accuracy: 0.9037 - val_loss: 0.2775 - val_accuracy: 0.9192 - lr: 4.0000e-04\n",
      "Epoch 12/65\n",
      "4531/4531 [==============================] - ETA: 0s - loss: 0.3187 - accuracy: 0.9060\n",
      "Epoch 12: val_loss improved from 0.27746 to 0.27082, saving model to models/TF_char_6412k\n"
     ]
    },
    {
     "name": "stderr",
     "output_type": "stream",
     "text": [
      "WARNING:absl:Found untraced functions such as query_layer_call_fn, query_layer_call_and_return_conditional_losses, key_layer_call_fn, key_layer_call_and_return_conditional_losses, value_layer_call_fn while saving (showing 5 of 96). These functions will not be directly callable after loading.\n"
     ]
    },
    {
     "name": "stdout",
     "output_type": "stream",
     "text": [
      "INFO:tensorflow:Assets written to: models/TF_char_6412k/assets\n"
     ]
    },
    {
     "name": "stderr",
     "output_type": "stream",
     "text": [
      "INFO:tensorflow:Assets written to: models/TF_char_6412k/assets\n"
     ]
    },
    {
     "name": "stdout",
     "output_type": "stream",
     "text": [
      "4531/4531 [==============================] - 3244s 716ms/step - loss: 0.3187 - accuracy: 0.9060 - val_loss: 0.2708 - val_accuracy: 0.9208 - lr: 4.0000e-04\n",
      "Epoch 13/65\n",
      "4531/4531 [==============================] - ETA: 0s - loss: 0.3113 - accuracy: 0.9083\n",
      "Epoch 13: val_loss improved from 0.27082 to 0.26237, saving model to models/TF_char_6412k\n"
     ]
    },
    {
     "name": "stderr",
     "output_type": "stream",
     "text": [
      "WARNING:absl:Found untraced functions such as query_layer_call_fn, query_layer_call_and_return_conditional_losses, key_layer_call_fn, key_layer_call_and_return_conditional_losses, value_layer_call_fn while saving (showing 5 of 96). These functions will not be directly callable after loading.\n"
     ]
    },
    {
     "name": "stdout",
     "output_type": "stream",
     "text": [
      "INFO:tensorflow:Assets written to: models/TF_char_6412k/assets\n"
     ]
    },
    {
     "name": "stderr",
     "output_type": "stream",
     "text": [
      "INFO:tensorflow:Assets written to: models/TF_char_6412k/assets\n"
     ]
    },
    {
     "name": "stdout",
     "output_type": "stream",
     "text": [
      "4531/4531 [==============================] - 3236s 714ms/step - loss: 0.3113 - accuracy: 0.9083 - val_loss: 0.2624 - val_accuracy: 0.9232 - lr: 4.0000e-04\n",
      "Epoch 14/65\n",
      "4531/4531 [==============================] - ETA: 0s - loss: 0.3054 - accuracy: 0.9100\n",
      "Epoch 14: val_loss improved from 0.26237 to 0.25931, saving model to models/TF_char_6412k\n"
     ]
    },
    {
     "name": "stderr",
     "output_type": "stream",
     "text": [
      "WARNING:absl:Found untraced functions such as query_layer_call_fn, query_layer_call_and_return_conditional_losses, key_layer_call_fn, key_layer_call_and_return_conditional_losses, value_layer_call_fn while saving (showing 5 of 96). These functions will not be directly callable after loading.\n"
     ]
    },
    {
     "name": "stdout",
     "output_type": "stream",
     "text": [
      "INFO:tensorflow:Assets written to: models/TF_char_6412k/assets\n"
     ]
    },
    {
     "name": "stderr",
     "output_type": "stream",
     "text": [
      "INFO:tensorflow:Assets written to: models/TF_char_6412k/assets\n"
     ]
    },
    {
     "name": "stdout",
     "output_type": "stream",
     "text": [
      "4531/4531 [==============================] - 3238s 715ms/step - loss: 0.3054 - accuracy: 0.9100 - val_loss: 0.2593 - val_accuracy: 0.9245 - lr: 4.0000e-04\n",
      "Epoch 15/65\n",
      "4531/4531 [==============================] - ETA: 0s - loss: 0.2997 - accuracy: 0.9118\n",
      "Epoch 15: val_loss improved from 0.25931 to 0.25697, saving model to models/TF_char_6412k\n"
     ]
    },
    {
     "name": "stderr",
     "output_type": "stream",
     "text": [
      "WARNING:absl:Found untraced functions such as query_layer_call_fn, query_layer_call_and_return_conditional_losses, key_layer_call_fn, key_layer_call_and_return_conditional_losses, value_layer_call_fn while saving (showing 5 of 96). These functions will not be directly callable after loading.\n"
     ]
    },
    {
     "name": "stdout",
     "output_type": "stream",
     "text": [
      "INFO:tensorflow:Assets written to: models/TF_char_6412k/assets\n"
     ]
    },
    {
     "name": "stderr",
     "output_type": "stream",
     "text": [
      "INFO:tensorflow:Assets written to: models/TF_char_6412k/assets\n"
     ]
    },
    {
     "name": "stdout",
     "output_type": "stream",
     "text": [
      "4531/4531 [==============================] - 3244s 716ms/step - loss: 0.2997 - accuracy: 0.9118 - val_loss: 0.2570 - val_accuracy: 0.9253 - lr: 4.0000e-04\n",
      "Epoch 16/65\n",
      "4531/4531 [==============================] - ETA: 0s - loss: 0.2953 - accuracy: 0.9130\n",
      "Epoch 16: val_loss improved from 0.25697 to 0.24945, saving model to models/TF_char_6412k\n"
     ]
    },
    {
     "name": "stderr",
     "output_type": "stream",
     "text": [
      "WARNING:absl:Found untraced functions such as query_layer_call_fn, query_layer_call_and_return_conditional_losses, key_layer_call_fn, key_layer_call_and_return_conditional_losses, value_layer_call_fn while saving (showing 5 of 96). These functions will not be directly callable after loading.\n"
     ]
    },
    {
     "name": "stdout",
     "output_type": "stream",
     "text": [
      "INFO:tensorflow:Assets written to: models/TF_char_6412k/assets\n"
     ]
    },
    {
     "name": "stderr",
     "output_type": "stream",
     "text": [
      "INFO:tensorflow:Assets written to: models/TF_char_6412k/assets\n"
     ]
    },
    {
     "name": "stdout",
     "output_type": "stream",
     "text": [
      "4531/4531 [==============================] - 3217s 710ms/step - loss: 0.2953 - accuracy: 0.9130 - val_loss: 0.2494 - val_accuracy: 0.9271 - lr: 4.0000e-04\n",
      "Epoch 17/65\n",
      "4531/4531 [==============================] - ETA: 0s - loss: 0.2906 - accuracy: 0.9145\n",
      "Epoch 17: val_loss improved from 0.24945 to 0.24684, saving model to models/TF_char_6412k\n"
     ]
    },
    {
     "name": "stderr",
     "output_type": "stream",
     "text": [
      "WARNING:absl:Found untraced functions such as query_layer_call_fn, query_layer_call_and_return_conditional_losses, key_layer_call_fn, key_layer_call_and_return_conditional_losses, value_layer_call_fn while saving (showing 5 of 96). These functions will not be directly callable after loading.\n"
     ]
    },
    {
     "name": "stdout",
     "output_type": "stream",
     "text": [
      "INFO:tensorflow:Assets written to: models/TF_char_6412k/assets\n"
     ]
    },
    {
     "name": "stderr",
     "output_type": "stream",
     "text": [
      "INFO:tensorflow:Assets written to: models/TF_char_6412k/assets\n"
     ]
    },
    {
     "name": "stdout",
     "output_type": "stream",
     "text": [
      "4531/4531 [==============================] - 3217s 710ms/step - loss: 0.2906 - accuracy: 0.9145 - val_loss: 0.2468 - val_accuracy: 0.9280 - lr: 4.0000e-04\n",
      "Epoch 18/65\n",
      "4531/4531 [==============================] - ETA: 0s - loss: 0.2861 - accuracy: 0.9158\n",
      "Epoch 18: val_loss improved from 0.24684 to 0.24452, saving model to models/TF_char_6412k\n"
     ]
    },
    {
     "name": "stderr",
     "output_type": "stream",
     "text": [
      "WARNING:absl:Found untraced functions such as query_layer_call_fn, query_layer_call_and_return_conditional_losses, key_layer_call_fn, key_layer_call_and_return_conditional_losses, value_layer_call_fn while saving (showing 5 of 96). These functions will not be directly callable after loading.\n"
     ]
    },
    {
     "name": "stdout",
     "output_type": "stream",
     "text": [
      "INFO:tensorflow:Assets written to: models/TF_char_6412k/assets\n"
     ]
    },
    {
     "name": "stderr",
     "output_type": "stream",
     "text": [
      "INFO:tensorflow:Assets written to: models/TF_char_6412k/assets\n"
     ]
    },
    {
     "name": "stdout",
     "output_type": "stream",
     "text": [
      "4531/4531 [==============================] - 3216s 710ms/step - loss: 0.2861 - accuracy: 0.9158 - val_loss: 0.2445 - val_accuracy: 0.9290 - lr: 4.0000e-04\n",
      "Epoch 19/65\n",
      "4531/4531 [==============================] - ETA: 0s - loss: 0.2822 - accuracy: 0.9169\n",
      "Epoch 19: val_loss improved from 0.24452 to 0.24235, saving model to models/TF_char_6412k\n"
     ]
    },
    {
     "name": "stderr",
     "output_type": "stream",
     "text": [
      "WARNING:absl:Found untraced functions such as query_layer_call_fn, query_layer_call_and_return_conditional_losses, key_layer_call_fn, key_layer_call_and_return_conditional_losses, value_layer_call_fn while saving (showing 5 of 96). These functions will not be directly callable after loading.\n"
     ]
    },
    {
     "name": "stdout",
     "output_type": "stream",
     "text": [
      "INFO:tensorflow:Assets written to: models/TF_char_6412k/assets\n"
     ]
    },
    {
     "name": "stderr",
     "output_type": "stream",
     "text": [
      "INFO:tensorflow:Assets written to: models/TF_char_6412k/assets\n"
     ]
    },
    {
     "name": "stdout",
     "output_type": "stream",
     "text": [
      "4531/4531 [==============================] - 3218s 710ms/step - loss: 0.2822 - accuracy: 0.9169 - val_loss: 0.2423 - val_accuracy: 0.9298 - lr: 4.0000e-04\n",
      "Epoch 20/65\n",
      "4531/4531 [==============================] - ETA: 0s - loss: 0.2792 - accuracy: 0.9178\n",
      "Epoch 20: val_loss improved from 0.24235 to 0.23829, saving model to models/TF_char_6412k\n"
     ]
    },
    {
     "name": "stderr",
     "output_type": "stream",
     "text": [
      "WARNING:absl:Found untraced functions such as query_layer_call_fn, query_layer_call_and_return_conditional_losses, key_layer_call_fn, key_layer_call_and_return_conditional_losses, value_layer_call_fn while saving (showing 5 of 96). These functions will not be directly callable after loading.\n"
     ]
    },
    {
     "name": "stdout",
     "output_type": "stream",
     "text": [
      "INFO:tensorflow:Assets written to: models/TF_char_6412k/assets\n"
     ]
    },
    {
     "name": "stderr",
     "output_type": "stream",
     "text": [
      "INFO:tensorflow:Assets written to: models/TF_char_6412k/assets\n"
     ]
    },
    {
     "name": "stdout",
     "output_type": "stream",
     "text": [
      "4531/4531 [==============================] - 3217s 710ms/step - loss: 0.2792 - accuracy: 0.9178 - val_loss: 0.2383 - val_accuracy: 0.9308 - lr: 4.0000e-04\n",
      "Epoch 21/65\n",
      "4531/4531 [==============================] - ETA: 0s - loss: 0.2759 - accuracy: 0.9188\n",
      "Epoch 21: val_loss improved from 0.23829 to 0.23516, saving model to models/TF_char_6412k\n"
     ]
    },
    {
     "name": "stderr",
     "output_type": "stream",
     "text": [
      "WARNING:absl:Found untraced functions such as query_layer_call_fn, query_layer_call_and_return_conditional_losses, key_layer_call_fn, key_layer_call_and_return_conditional_losses, value_layer_call_fn while saving (showing 5 of 96). These functions will not be directly callable after loading.\n"
     ]
    },
    {
     "name": "stdout",
     "output_type": "stream",
     "text": [
      "INFO:tensorflow:Assets written to: models/TF_char_6412k/assets\n"
     ]
    },
    {
     "name": "stderr",
     "output_type": "stream",
     "text": [
      "INFO:tensorflow:Assets written to: models/TF_char_6412k/assets\n"
     ]
    },
    {
     "name": "stdout",
     "output_type": "stream",
     "text": [
      "4531/4531 [==============================] - 3216s 710ms/step - loss: 0.2759 - accuracy: 0.9188 - val_loss: 0.2352 - val_accuracy: 0.9316 - lr: 4.0000e-04\n",
      "Epoch 22/65\n",
      "4531/4531 [==============================] - ETA: 0s - loss: 0.2731 - accuracy: 0.9197\n",
      "Epoch 22: val_loss improved from 0.23516 to 0.23356, saving model to models/TF_char_6412k\n"
     ]
    },
    {
     "name": "stderr",
     "output_type": "stream",
     "text": [
      "WARNING:absl:Found untraced functions such as query_layer_call_fn, query_layer_call_and_return_conditional_losses, key_layer_call_fn, key_layer_call_and_return_conditional_losses, value_layer_call_fn while saving (showing 5 of 96). These functions will not be directly callable after loading.\n"
     ]
    },
    {
     "name": "stdout",
     "output_type": "stream",
     "text": [
      "INFO:tensorflow:Assets written to: models/TF_char_6412k/assets\n"
     ]
    },
    {
     "name": "stderr",
     "output_type": "stream",
     "text": [
      "INFO:tensorflow:Assets written to: models/TF_char_6412k/assets\n"
     ]
    },
    {
     "name": "stdout",
     "output_type": "stream",
     "text": [
      "4531/4531 [==============================] - 3217s 710ms/step - loss: 0.2731 - accuracy: 0.9197 - val_loss: 0.2336 - val_accuracy: 0.9320 - lr: 4.0000e-04\n",
      "Epoch 23/65\n",
      "4531/4531 [==============================] - ETA: 0s - loss: 0.2498 - accuracy: 0.9251\n",
      "Epoch 23: val_loss improved from 0.23356 to 0.21267, saving model to models/TF_char_6412k\n"
     ]
    },
    {
     "name": "stderr",
     "output_type": "stream",
     "text": [
      "WARNING:absl:Found untraced functions such as query_layer_call_fn, query_layer_call_and_return_conditional_losses, key_layer_call_fn, key_layer_call_and_return_conditional_losses, value_layer_call_fn while saving (showing 5 of 96). These functions will not be directly callable after loading.\n"
     ]
    },
    {
     "name": "stdout",
     "output_type": "stream",
     "text": [
      "INFO:tensorflow:Assets written to: models/TF_char_6412k/assets\n"
     ]
    },
    {
     "name": "stderr",
     "output_type": "stream",
     "text": [
      "INFO:tensorflow:Assets written to: models/TF_char_6412k/assets\n"
     ]
    },
    {
     "name": "stdout",
     "output_type": "stream",
     "text": [
      "4531/4531 [==============================] - 3218s 710ms/step - loss: 0.2498 - accuracy: 0.9251 - val_loss: 0.2127 - val_accuracy: 0.9378 - lr: 6.6667e-05\n",
      "Epoch 24/65\n",
      "4531/4531 [==============================] - ETA: 0s - loss: 0.2419 - accuracy: 0.9281\n",
      "Epoch 24: val_loss improved from 0.21267 to 0.20939, saving model to models/TF_char_6412k\n"
     ]
    },
    {
     "name": "stderr",
     "output_type": "stream",
     "text": [
      "WARNING:absl:Found untraced functions such as query_layer_call_fn, query_layer_call_and_return_conditional_losses, key_layer_call_fn, key_layer_call_and_return_conditional_losses, value_layer_call_fn while saving (showing 5 of 96). These functions will not be directly callable after loading.\n"
     ]
    },
    {
     "name": "stdout",
     "output_type": "stream",
     "text": [
      "INFO:tensorflow:Assets written to: models/TF_char_6412k/assets\n"
     ]
    },
    {
     "name": "stderr",
     "output_type": "stream",
     "text": [
      "INFO:tensorflow:Assets written to: models/TF_char_6412k/assets\n"
     ]
    },
    {
     "name": "stdout",
     "output_type": "stream",
     "text": [
      "4531/4531 [==============================] - 3216s 710ms/step - loss: 0.2419 - accuracy: 0.9281 - val_loss: 0.2094 - val_accuracy: 0.9387 - lr: 6.6667e-05\n",
      "Epoch 25/65\n",
      "4531/4531 [==============================] - ETA: 0s - loss: 0.2389 - accuracy: 0.9292\n",
      "Epoch 25: val_loss improved from 0.20939 to 0.20793, saving model to models/TF_char_6412k\n"
     ]
    },
    {
     "name": "stderr",
     "output_type": "stream",
     "text": [
      "WARNING:absl:Found untraced functions such as query_layer_call_fn, query_layer_call_and_return_conditional_losses, key_layer_call_fn, key_layer_call_and_return_conditional_losses, value_layer_call_fn while saving (showing 5 of 96). These functions will not be directly callable after loading.\n"
     ]
    },
    {
     "name": "stdout",
     "output_type": "stream",
     "text": [
      "INFO:tensorflow:Assets written to: models/TF_char_6412k/assets\n"
     ]
    },
    {
     "name": "stderr",
     "output_type": "stream",
     "text": [
      "INFO:tensorflow:Assets written to: models/TF_char_6412k/assets\n"
     ]
    },
    {
     "name": "stdout",
     "output_type": "stream",
     "text": [
      "4531/4531 [==============================] - 3233s 714ms/step - loss: 0.2389 - accuracy: 0.9292 - val_loss: 0.2079 - val_accuracy: 0.9391 - lr: 6.6667e-05\n",
      "Epoch 26/65\n",
      "4531/4531 [==============================] - ETA: 0s - loss: 0.2366 - accuracy: 0.9299\n",
      "Epoch 26: val_loss improved from 0.20793 to 0.20536, saving model to models/TF_char_6412k\n"
     ]
    },
    {
     "name": "stderr",
     "output_type": "stream",
     "text": [
      "WARNING:absl:Found untraced functions such as query_layer_call_fn, query_layer_call_and_return_conditional_losses, key_layer_call_fn, key_layer_call_and_return_conditional_losses, value_layer_call_fn while saving (showing 5 of 96). These functions will not be directly callable after loading.\n"
     ]
    },
    {
     "name": "stdout",
     "output_type": "stream",
     "text": [
      "INFO:tensorflow:Assets written to: models/TF_char_6412k/assets\n"
     ]
    },
    {
     "name": "stderr",
     "output_type": "stream",
     "text": [
      "INFO:tensorflow:Assets written to: models/TF_char_6412k/assets\n"
     ]
    },
    {
     "name": "stdout",
     "output_type": "stream",
     "text": [
      "4531/4531 [==============================] - 3242s 716ms/step - loss: 0.2366 - accuracy: 0.9299 - val_loss: 0.2054 - val_accuracy: 0.9398 - lr: 6.6667e-05\n",
      "Epoch 27/65\n",
      "4531/4531 [==============================] - ETA: 0s - loss: 0.2351 - accuracy: 0.9303\n",
      "Epoch 27: val_loss improved from 0.20536 to 0.20348, saving model to models/TF_char_6412k\n"
     ]
    },
    {
     "name": "stderr",
     "output_type": "stream",
     "text": [
      "WARNING:absl:Found untraced functions such as query_layer_call_fn, query_layer_call_and_return_conditional_losses, key_layer_call_fn, key_layer_call_and_return_conditional_losses, value_layer_call_fn while saving (showing 5 of 96). These functions will not be directly callable after loading.\n"
     ]
    },
    {
     "name": "stdout",
     "output_type": "stream",
     "text": [
      "INFO:tensorflow:Assets written to: models/TF_char_6412k/assets\n"
     ]
    },
    {
     "name": "stderr",
     "output_type": "stream",
     "text": [
      "INFO:tensorflow:Assets written to: models/TF_char_6412k/assets\n"
     ]
    },
    {
     "name": "stdout",
     "output_type": "stream",
     "text": [
      "4531/4531 [==============================] - 3240s 715ms/step - loss: 0.2351 - accuracy: 0.9303 - val_loss: 0.2035 - val_accuracy: 0.9403 - lr: 6.6667e-05\n",
      "Epoch 28/65\n",
      "4531/4531 [==============================] - ETA: 0s - loss: 0.2337 - accuracy: 0.9307\n",
      "Epoch 28: val_loss did not improve from 0.20348\n",
      "4531/4531 [==============================] - 3212s 709ms/step - loss: 0.2337 - accuracy: 0.9307 - val_loss: 0.2037 - val_accuracy: 0.9404 - lr: 6.6667e-05\n",
      "Epoch 29/65\n",
      "4531/4531 [==============================] - ETA: 0s - loss: 0.2322 - accuracy: 0.9312\n",
      "Epoch 29: val_loss improved from 0.20348 to 0.20061, saving model to models/TF_char_6412k\n"
     ]
    },
    {
     "name": "stderr",
     "output_type": "stream",
     "text": [
      "WARNING:absl:Found untraced functions such as query_layer_call_fn, query_layer_call_and_return_conditional_losses, key_layer_call_fn, key_layer_call_and_return_conditional_losses, value_layer_call_fn while saving (showing 5 of 96). These functions will not be directly callable after loading.\n"
     ]
    },
    {
     "name": "stdout",
     "output_type": "stream",
     "text": [
      "INFO:tensorflow:Assets written to: models/TF_char_6412k/assets\n"
     ]
    },
    {
     "name": "stderr",
     "output_type": "stream",
     "text": [
      "INFO:tensorflow:Assets written to: models/TF_char_6412k/assets\n"
     ]
    },
    {
     "name": "stdout",
     "output_type": "stream",
     "text": [
      "4531/4531 [==============================] - 3217s 710ms/step - loss: 0.2322 - accuracy: 0.9312 - val_loss: 0.2006 - val_accuracy: 0.9410 - lr: 6.6667e-05\n",
      "Epoch 30/65\n",
      "4531/4531 [==============================] - ETA: 0s - loss: 0.2312 - accuracy: 0.9315\n",
      "Epoch 30: val_loss improved from 0.20061 to 0.20017, saving model to models/TF_char_6412k\n"
     ]
    },
    {
     "name": "stderr",
     "output_type": "stream",
     "text": [
      "WARNING:absl:Found untraced functions such as query_layer_call_fn, query_layer_call_and_return_conditional_losses, key_layer_call_fn, key_layer_call_and_return_conditional_losses, value_layer_call_fn while saving (showing 5 of 96). These functions will not be directly callable after loading.\n"
     ]
    },
    {
     "name": "stdout",
     "output_type": "stream",
     "text": [
      "INFO:tensorflow:Assets written to: models/TF_char_6412k/assets\n"
     ]
    },
    {
     "name": "stderr",
     "output_type": "stream",
     "text": [
      "INFO:tensorflow:Assets written to: models/TF_char_6412k/assets\n"
     ]
    },
    {
     "name": "stdout",
     "output_type": "stream",
     "text": [
      "4531/4531 [==============================] - 3218s 710ms/step - loss: 0.2312 - accuracy: 0.9315 - val_loss: 0.2002 - val_accuracy: 0.9414 - lr: 6.6667e-05\n",
      "Epoch 31/65\n",
      "4531/4531 [==============================] - ETA: 0s - loss: 0.2303 - accuracy: 0.9318\n",
      "Epoch 31: val_loss improved from 0.20017 to 0.19923, saving model to models/TF_char_6412k\n"
     ]
    },
    {
     "name": "stderr",
     "output_type": "stream",
     "text": [
      "WARNING:absl:Found untraced functions such as query_layer_call_fn, query_layer_call_and_return_conditional_losses, key_layer_call_fn, key_layer_call_and_return_conditional_losses, value_layer_call_fn while saving (showing 5 of 96). These functions will not be directly callable after loading.\n"
     ]
    },
    {
     "name": "stdout",
     "output_type": "stream",
     "text": [
      "INFO:tensorflow:Assets written to: models/TF_char_6412k/assets\n"
     ]
    },
    {
     "name": "stderr",
     "output_type": "stream",
     "text": [
      "INFO:tensorflow:Assets written to: models/TF_char_6412k/assets\n"
     ]
    },
    {
     "name": "stdout",
     "output_type": "stream",
     "text": [
      "4531/4531 [==============================] - 3242s 716ms/step - loss: 0.2303 - accuracy: 0.9318 - val_loss: 0.1992 - val_accuracy: 0.9415 - lr: 6.6667e-05\n",
      "Epoch 32/65\n",
      "4531/4531 [==============================] - ETA: 0s - loss: 0.2294 - accuracy: 0.9320\n",
      "Epoch 32: val_loss improved from 0.19923 to 0.19911, saving model to models/TF_char_6412k\n"
     ]
    },
    {
     "name": "stderr",
     "output_type": "stream",
     "text": [
      "WARNING:absl:Found untraced functions such as query_layer_call_fn, query_layer_call_and_return_conditional_losses, key_layer_call_fn, key_layer_call_and_return_conditional_losses, value_layer_call_fn while saving (showing 5 of 96). These functions will not be directly callable after loading.\n"
     ]
    },
    {
     "name": "stdout",
     "output_type": "stream",
     "text": [
      "INFO:tensorflow:Assets written to: models/TF_char_6412k/assets\n"
     ]
    },
    {
     "name": "stderr",
     "output_type": "stream",
     "text": [
      "INFO:tensorflow:Assets written to: models/TF_char_6412k/assets\n"
     ]
    },
    {
     "name": "stdout",
     "output_type": "stream",
     "text": [
      "4531/4531 [==============================] - 3237s 714ms/step - loss: 0.2294 - accuracy: 0.9320 - val_loss: 0.1991 - val_accuracy: 0.9416 - lr: 6.6667e-05\n",
      "Epoch 33/65\n",
      "4531/4531 [==============================] - ETA: 0s - loss: 0.2284 - accuracy: 0.9322\n",
      "Epoch 33: val_loss improved from 0.19911 to 0.19722, saving model to models/TF_char_6412k\n"
     ]
    },
    {
     "name": "stderr",
     "output_type": "stream",
     "text": [
      "WARNING:absl:Found untraced functions such as query_layer_call_fn, query_layer_call_and_return_conditional_losses, key_layer_call_fn, key_layer_call_and_return_conditional_losses, value_layer_call_fn while saving (showing 5 of 96). These functions will not be directly callable after loading.\n"
     ]
    },
    {
     "name": "stdout",
     "output_type": "stream",
     "text": [
      "INFO:tensorflow:Assets written to: models/TF_char_6412k/assets\n"
     ]
    },
    {
     "name": "stderr",
     "output_type": "stream",
     "text": [
      "INFO:tensorflow:Assets written to: models/TF_char_6412k/assets\n"
     ]
    },
    {
     "name": "stdout",
     "output_type": "stream",
     "text": [
      "4531/4531 [==============================] - 3228s 712ms/step - loss: 0.2284 - accuracy: 0.9322 - val_loss: 0.1972 - val_accuracy: 0.9421 - lr: 6.6667e-05\n",
      "Epoch 34/65\n",
      "4531/4531 [==============================] - ETA: 0s - loss: 0.2273 - accuracy: 0.9326\n",
      "Epoch 34: val_loss improved from 0.19722 to 0.19688, saving model to models/TF_char_6412k\n"
     ]
    },
    {
     "name": "stderr",
     "output_type": "stream",
     "text": [
      "WARNING:absl:Found untraced functions such as query_layer_call_fn, query_layer_call_and_return_conditional_losses, key_layer_call_fn, key_layer_call_and_return_conditional_losses, value_layer_call_fn while saving (showing 5 of 96). These functions will not be directly callable after loading.\n"
     ]
    },
    {
     "name": "stdout",
     "output_type": "stream",
     "text": [
      "INFO:tensorflow:Assets written to: models/TF_char_6412k/assets\n"
     ]
    },
    {
     "name": "stderr",
     "output_type": "stream",
     "text": [
      "INFO:tensorflow:Assets written to: models/TF_char_6412k/assets\n"
     ]
    },
    {
     "name": "stdout",
     "output_type": "stream",
     "text": [
      "4531/4531 [==============================] - 3223s 711ms/step - loss: 0.2273 - accuracy: 0.9326 - val_loss: 0.1969 - val_accuracy: 0.9422 - lr: 6.6667e-05\n",
      "Epoch 35/65\n",
      "4531/4531 [==============================] - ETA: 0s - loss: 0.2269 - accuracy: 0.9327\n",
      "Epoch 35: val_loss improved from 0.19688 to 0.19672, saving model to models/TF_char_6412k\n"
     ]
    },
    {
     "name": "stderr",
     "output_type": "stream",
     "text": [
      "WARNING:absl:Found untraced functions such as query_layer_call_fn, query_layer_call_and_return_conditional_losses, key_layer_call_fn, key_layer_call_and_return_conditional_losses, value_layer_call_fn while saving (showing 5 of 96). These functions will not be directly callable after loading.\n"
     ]
    },
    {
     "name": "stdout",
     "output_type": "stream",
     "text": [
      "INFO:tensorflow:Assets written to: models/TF_char_6412k/assets\n"
     ]
    },
    {
     "name": "stderr",
     "output_type": "stream",
     "text": [
      "INFO:tensorflow:Assets written to: models/TF_char_6412k/assets\n"
     ]
    },
    {
     "name": "stdout",
     "output_type": "stream",
     "text": [
      "4531/4531 [==============================] - 3198s 706ms/step - loss: 0.2269 - accuracy: 0.9327 - val_loss: 0.1967 - val_accuracy: 0.9423 - lr: 6.6667e-05\n",
      "Epoch 36/65\n",
      "4531/4531 [==============================] - ETA: 0s - loss: 0.2263 - accuracy: 0.9328\n",
      "Epoch 36: val_loss improved from 0.19672 to 0.19489, saving model to models/TF_char_6412k\n"
     ]
    },
    {
     "name": "stderr",
     "output_type": "stream",
     "text": [
      "WARNING:absl:Found untraced functions such as query_layer_call_fn, query_layer_call_and_return_conditional_losses, key_layer_call_fn, key_layer_call_and_return_conditional_losses, value_layer_call_fn while saving (showing 5 of 96). These functions will not be directly callable after loading.\n"
     ]
    },
    {
     "name": "stdout",
     "output_type": "stream",
     "text": [
      "INFO:tensorflow:Assets written to: models/TF_char_6412k/assets\n"
     ]
    },
    {
     "name": "stderr",
     "output_type": "stream",
     "text": [
      "INFO:tensorflow:Assets written to: models/TF_char_6412k/assets\n"
     ]
    },
    {
     "name": "stdout",
     "output_type": "stream",
     "text": [
      "4531/4531 [==============================] - 3199s 706ms/step - loss: 0.2263 - accuracy: 0.9328 - val_loss: 0.1949 - val_accuracy: 0.9426 - lr: 6.6667e-05\n",
      "Epoch 37/65\n",
      "4531/4531 [==============================] - ETA: 0s - loss: 0.2254 - accuracy: 0.9331\n",
      "Epoch 37: val_loss did not improve from 0.19489\n",
      "4531/4531 [==============================] - 3209s 708ms/step - loss: 0.2254 - accuracy: 0.9331 - val_loss: 0.1964 - val_accuracy: 0.9425 - lr: 6.6667e-05\n",
      "Epoch 38/65\n",
      "4531/4531 [==============================] - ETA: 0s - loss: 0.2250 - accuracy: 0.9331\n",
      "Epoch 38: val_loss improved from 0.19489 to 0.19395, saving model to models/TF_char_6412k\n"
     ]
    },
    {
     "name": "stderr",
     "output_type": "stream",
     "text": [
      "WARNING:absl:Found untraced functions such as query_layer_call_fn, query_layer_call_and_return_conditional_losses, key_layer_call_fn, key_layer_call_and_return_conditional_losses, value_layer_call_fn while saving (showing 5 of 96). These functions will not be directly callable after loading.\n"
     ]
    },
    {
     "name": "stdout",
     "output_type": "stream",
     "text": [
      "INFO:tensorflow:Assets written to: models/TF_char_6412k/assets\n"
     ]
    },
    {
     "name": "stderr",
     "output_type": "stream",
     "text": [
      "INFO:tensorflow:Assets written to: models/TF_char_6412k/assets\n"
     ]
    },
    {
     "name": "stdout",
     "output_type": "stream",
     "text": [
      "4531/4531 [==============================] - 3218s 710ms/step - loss: 0.2250 - accuracy: 0.9331 - val_loss: 0.1940 - val_accuracy: 0.9430 - lr: 6.6667e-05\n",
      "Epoch 39/65\n",
      "4531/4531 [==============================] - ETA: 0s - loss: 0.2244 - accuracy: 0.9334\n",
      "Epoch 39: val_loss did not improve from 0.19395\n",
      "4531/4531 [==============================] - 3214s 709ms/step - loss: 0.2244 - accuracy: 0.9334 - val_loss: 0.1945 - val_accuracy: 0.9430 - lr: 6.6667e-05\n",
      "Epoch 40/65\n",
      "4531/4531 [==============================] - ETA: 0s - loss: 0.2239 - accuracy: 0.9336\n",
      "Epoch 40: val_loss improved from 0.19395 to 0.19181, saving model to models/TF_char_6412k\n"
     ]
    },
    {
     "name": "stderr",
     "output_type": "stream",
     "text": [
      "WARNING:absl:Found untraced functions such as query_layer_call_fn, query_layer_call_and_return_conditional_losses, key_layer_call_fn, key_layer_call_and_return_conditional_losses, value_layer_call_fn while saving (showing 5 of 96). These functions will not be directly callable after loading.\n"
     ]
    },
    {
     "name": "stdout",
     "output_type": "stream",
     "text": [
      "INFO:tensorflow:Assets written to: models/TF_char_6412k/assets\n"
     ]
    },
    {
     "name": "stderr",
     "output_type": "stream",
     "text": [
      "INFO:tensorflow:Assets written to: models/TF_char_6412k/assets\n"
     ]
    },
    {
     "name": "stdout",
     "output_type": "stream",
     "text": [
      "4531/4531 [==============================] - 3220s 711ms/step - loss: 0.2239 - accuracy: 0.9336 - val_loss: 0.1918 - val_accuracy: 0.9435 - lr: 6.6667e-05\n",
      "Epoch 41/65\n",
      "4531/4531 [==============================] - ETA: 0s - loss: 0.2232 - accuracy: 0.9338\n",
      "Epoch 41: val_loss did not improve from 0.19181\n",
      "4531/4531 [==============================] - 3218s 710ms/step - loss: 0.2232 - accuracy: 0.9338 - val_loss: 0.1934 - val_accuracy: 0.9432 - lr: 6.6667e-05\n",
      "Epoch 42/65\n",
      "4531/4531 [==============================] - ETA: 0s - loss: 0.2226 - accuracy: 0.9339\n",
      "Epoch 42: val_loss did not improve from 0.19181\n",
      "4531/4531 [==============================] - 3224s 712ms/step - loss: 0.2226 - accuracy: 0.9339 - val_loss: 0.1928 - val_accuracy: 0.9433 - lr: 6.6667e-05\n",
      "Epoch 43/65\n",
      "4531/4531 [==============================] - ETA: 0s - loss: 0.2219 - accuracy: 0.9341\n",
      "Epoch 43: val_loss did not improve from 0.19181\n",
      "4531/4531 [==============================] - 3226s 712ms/step - loss: 0.2219 - accuracy: 0.9341 - val_loss: 0.1921 - val_accuracy: 0.9435 - lr: 6.6667e-05\n",
      "Epoch 44/65\n",
      "4531/4531 [==============================] - ETA: 0s - loss: 0.2218 - accuracy: 0.9342\n",
      "Epoch 44: val_loss did not improve from 0.19181\n",
      "4531/4531 [==============================] - 3228s 712ms/step - loss: 0.2218 - accuracy: 0.9342 - val_loss: 0.1919 - val_accuracy: 0.9437 - lr: 6.6667e-05\n",
      "Epoch 45/65\n",
      "4531/4531 [==============================] - ETA: 0s - loss: 0.2211 - accuracy: 0.9344\n",
      "Epoch 45: val_loss improved from 0.19181 to 0.19129, saving model to models/TF_char_6412k\n"
     ]
    },
    {
     "name": "stderr",
     "output_type": "stream",
     "text": [
      "WARNING:absl:Found untraced functions such as query_layer_call_fn, query_layer_call_and_return_conditional_losses, key_layer_call_fn, key_layer_call_and_return_conditional_losses, value_layer_call_fn while saving (showing 5 of 96). These functions will not be directly callable after loading.\n"
     ]
    },
    {
     "name": "stdout",
     "output_type": "stream",
     "text": [
      "INFO:tensorflow:Assets written to: models/TF_char_6412k/assets\n"
     ]
    },
    {
     "name": "stderr",
     "output_type": "stream",
     "text": [
      "INFO:tensorflow:Assets written to: models/TF_char_6412k/assets\n"
     ]
    },
    {
     "name": "stdout",
     "output_type": "stream",
     "text": [
      "4531/4531 [==============================] - 3234s 714ms/step - loss: 0.2211 - accuracy: 0.9344 - val_loss: 0.1913 - val_accuracy: 0.9438 - lr: 6.6667e-05\n",
      "Epoch 46/65\n",
      "4531/4531 [==============================] - ETA: 0s - loss: 0.2206 - accuracy: 0.9345\n",
      "Epoch 46: val_loss improved from 0.19129 to 0.18994, saving model to models/TF_char_6412k\n"
     ]
    },
    {
     "name": "stderr",
     "output_type": "stream",
     "text": [
      "WARNING:absl:Found untraced functions such as query_layer_call_fn, query_layer_call_and_return_conditional_losses, key_layer_call_fn, key_layer_call_and_return_conditional_losses, value_layer_call_fn while saving (showing 5 of 96). These functions will not be directly callable after loading.\n"
     ]
    },
    {
     "name": "stdout",
     "output_type": "stream",
     "text": [
      "INFO:tensorflow:Assets written to: models/TF_char_6412k/assets\n"
     ]
    },
    {
     "name": "stderr",
     "output_type": "stream",
     "text": [
      "INFO:tensorflow:Assets written to: models/TF_char_6412k/assets\n"
     ]
    },
    {
     "name": "stdout",
     "output_type": "stream",
     "text": [
      "4531/4531 [==============================] - 3196s 705ms/step - loss: 0.2206 - accuracy: 0.9345 - val_loss: 0.1899 - val_accuracy: 0.9441 - lr: 6.6667e-05\n",
      "Epoch 47/65\n",
      "4531/4531 [==============================] - ETA: 0s - loss: 0.2202 - accuracy: 0.9347\n",
      "Epoch 47: val_loss did not improve from 0.18994\n",
      "4531/4531 [==============================] - 3191s 704ms/step - loss: 0.2202 - accuracy: 0.9347 - val_loss: 0.1900 - val_accuracy: 0.9442 - lr: 6.6667e-05\n",
      "Epoch 48/65\n",
      "4531/4531 [==============================] - ETA: 0s - loss: 0.2197 - accuracy: 0.9348\n",
      "Epoch 48: val_loss did not improve from 0.18994\n",
      "4531/4531 [==============================] - 3199s 706ms/step - loss: 0.2197 - accuracy: 0.9348 - val_loss: 0.1902 - val_accuracy: 0.9442 - lr: 6.6667e-05\n",
      "Epoch 49/65\n",
      "4531/4531 [==============================] - ETA: 0s - loss: 0.2193 - accuracy: 0.9349\n",
      "Epoch 49: val_loss improved from 0.18994 to 0.18903, saving model to models/TF_char_6412k\n"
     ]
    },
    {
     "name": "stderr",
     "output_type": "stream",
     "text": [
      "WARNING:absl:Found untraced functions such as query_layer_call_fn, query_layer_call_and_return_conditional_losses, key_layer_call_fn, key_layer_call_and_return_conditional_losses, value_layer_call_fn while saving (showing 5 of 96). These functions will not be directly callable after loading.\n"
     ]
    },
    {
     "name": "stdout",
     "output_type": "stream",
     "text": [
      "INFO:tensorflow:Assets written to: models/TF_char_6412k/assets\n"
     ]
    },
    {
     "name": "stderr",
     "output_type": "stream",
     "text": [
      "INFO:tensorflow:Assets written to: models/TF_char_6412k/assets\n"
     ]
    },
    {
     "name": "stdout",
     "output_type": "stream",
     "text": [
      "4531/4531 [==============================] - 3220s 711ms/step - loss: 0.2193 - accuracy: 0.9349 - val_loss: 0.1890 - val_accuracy: 0.9445 - lr: 6.6667e-05\n",
      "Epoch 50/65\n",
      "4531/4531 [==============================] - ETA: 0s - loss: 0.2189 - accuracy: 0.9350\n",
      "Epoch 50: val_loss did not improve from 0.18903\n",
      "4531/4531 [==============================] - 3218s 710ms/step - loss: 0.2189 - accuracy: 0.9350 - val_loss: 0.1892 - val_accuracy: 0.9444 - lr: 6.6667e-05\n",
      "Epoch 51/65\n",
      "4531/4531 [==============================] - ETA: 0s - loss: 0.2184 - accuracy: 0.9351\n",
      "Epoch 51: val_loss improved from 0.18903 to 0.18836, saving model to models/TF_char_6412k\n"
     ]
    },
    {
     "name": "stderr",
     "output_type": "stream",
     "text": [
      "WARNING:absl:Found untraced functions such as query_layer_call_fn, query_layer_call_and_return_conditional_losses, key_layer_call_fn, key_layer_call_and_return_conditional_losses, value_layer_call_fn while saving (showing 5 of 96). These functions will not be directly callable after loading.\n"
     ]
    },
    {
     "name": "stdout",
     "output_type": "stream",
     "text": [
      "INFO:tensorflow:Assets written to: models/TF_char_6412k/assets\n"
     ]
    },
    {
     "name": "stderr",
     "output_type": "stream",
     "text": [
      "INFO:tensorflow:Assets written to: models/TF_char_6412k/assets\n"
     ]
    },
    {
     "name": "stdout",
     "output_type": "stream",
     "text": [
      "4531/4531 [==============================] - 3233s 713ms/step - loss: 0.2184 - accuracy: 0.9351 - val_loss: 0.1884 - val_accuracy: 0.9446 - lr: 6.6667e-05\n",
      "Epoch 52/65\n",
      "4531/4531 [==============================] - ETA: 0s - loss: 0.2182 - accuracy: 0.9352\n",
      "Epoch 52: val_loss improved from 0.18836 to 0.18675, saving model to models/TF_char_6412k\n"
     ]
    },
    {
     "name": "stderr",
     "output_type": "stream",
     "text": [
      "WARNING:absl:Found untraced functions such as query_layer_call_fn, query_layer_call_and_return_conditional_losses, key_layer_call_fn, key_layer_call_and_return_conditional_losses, value_layer_call_fn while saving (showing 5 of 96). These functions will not be directly callable after loading.\n"
     ]
    },
    {
     "name": "stdout",
     "output_type": "stream",
     "text": [
      "INFO:tensorflow:Assets written to: models/TF_char_6412k/assets\n"
     ]
    },
    {
     "name": "stderr",
     "output_type": "stream",
     "text": [
      "INFO:tensorflow:Assets written to: models/TF_char_6412k/assets\n"
     ]
    },
    {
     "name": "stdout",
     "output_type": "stream",
     "text": [
      "4531/4531 [==============================] - 3200s 706ms/step - loss: 0.2182 - accuracy: 0.9352 - val_loss: 0.1868 - val_accuracy: 0.9450 - lr: 6.6667e-05\n",
      "Epoch 53/65\n",
      "4531/4531 [==============================] - ETA: 0s - loss: 0.2152 - accuracy: 0.9359\n",
      "Epoch 53: val_loss improved from 0.18675 to 0.18536, saving model to models/TF_char_6412k\n"
     ]
    },
    {
     "name": "stderr",
     "output_type": "stream",
     "text": [
      "WARNING:absl:Found untraced functions such as query_layer_call_fn, query_layer_call_and_return_conditional_losses, key_layer_call_fn, key_layer_call_and_return_conditional_losses, value_layer_call_fn while saving (showing 5 of 96). These functions will not be directly callable after loading.\n"
     ]
    },
    {
     "name": "stdout",
     "output_type": "stream",
     "text": [
      "INFO:tensorflow:Assets written to: models/TF_char_6412k/assets\n"
     ]
    },
    {
     "name": "stderr",
     "output_type": "stream",
     "text": [
      "INFO:tensorflow:Assets written to: models/TF_char_6412k/assets\n"
     ]
    },
    {
     "name": "stdout",
     "output_type": "stream",
     "text": [
      "4531/4531 [==============================] - 3196s 705ms/step - loss: 0.2152 - accuracy: 0.9359 - val_loss: 0.1854 - val_accuracy: 0.9454 - lr: 1.1111e-05\n",
      "Epoch 54/65\n",
      "4531/4531 [==============================] - ETA: 0s - loss: 0.2141 - accuracy: 0.9363\n",
      "Epoch 54: val_loss improved from 0.18536 to 0.18480, saving model to models/TF_char_6412k\n"
     ]
    },
    {
     "name": "stderr",
     "output_type": "stream",
     "text": [
      "WARNING:absl:Found untraced functions such as query_layer_call_fn, query_layer_call_and_return_conditional_losses, key_layer_call_fn, key_layer_call_and_return_conditional_losses, value_layer_call_fn while saving (showing 5 of 96). These functions will not be directly callable after loading.\n"
     ]
    },
    {
     "name": "stdout",
     "output_type": "stream",
     "text": [
      "INFO:tensorflow:Assets written to: models/TF_char_6412k/assets\n"
     ]
    },
    {
     "name": "stderr",
     "output_type": "stream",
     "text": [
      "INFO:tensorflow:Assets written to: models/TF_char_6412k/assets\n"
     ]
    },
    {
     "name": "stdout",
     "output_type": "stream",
     "text": [
      "4531/4531 [==============================] - 3222s 711ms/step - loss: 0.2141 - accuracy: 0.9363 - val_loss: 0.1848 - val_accuracy: 0.9457 - lr: 1.1111e-05\n",
      "Epoch 55/65\n",
      "4531/4531 [==============================] - ETA: 0s - loss: 0.2132 - accuracy: 0.9367\n",
      "Epoch 55: val_loss did not improve from 0.18480\n",
      "4531/4531 [==============================] - 3223s 711ms/step - loss: 0.2132 - accuracy: 0.9367 - val_loss: 0.1852 - val_accuracy: 0.9455 - lr: 1.1111e-05\n",
      "Epoch 56/65\n",
      "4531/4531 [==============================] - ETA: 0s - loss: 0.2128 - accuracy: 0.9368\n",
      "Epoch 56: val_loss improved from 0.18480 to 0.18471, saving model to models/TF_char_6412k\n"
     ]
    },
    {
     "name": "stderr",
     "output_type": "stream",
     "text": [
      "WARNING:absl:Found untraced functions such as query_layer_call_fn, query_layer_call_and_return_conditional_losses, key_layer_call_fn, key_layer_call_and_return_conditional_losses, value_layer_call_fn while saving (showing 5 of 96). These functions will not be directly callable after loading.\n"
     ]
    },
    {
     "name": "stdout",
     "output_type": "stream",
     "text": [
      "INFO:tensorflow:Assets written to: models/TF_char_6412k/assets\n"
     ]
    },
    {
     "name": "stderr",
     "output_type": "stream",
     "text": [
      "INFO:tensorflow:Assets written to: models/TF_char_6412k/assets\n"
     ]
    },
    {
     "name": "stdout",
     "output_type": "stream",
     "text": [
      "4531/4531 [==============================] - 3246s 716ms/step - loss: 0.2128 - accuracy: 0.9368 - val_loss: 0.1847 - val_accuracy: 0.9455 - lr: 1.1111e-05\n",
      "Epoch 57/65\n",
      "4531/4531 [==============================] - ETA: 0s - loss: 0.2125 - accuracy: 0.9369\n",
      "Epoch 57: val_loss improved from 0.18471 to 0.18342, saving model to models/TF_char_6412k\n"
     ]
    },
    {
     "name": "stderr",
     "output_type": "stream",
     "text": [
      "WARNING:absl:Found untraced functions such as query_layer_call_fn, query_layer_call_and_return_conditional_losses, key_layer_call_fn, key_layer_call_and_return_conditional_losses, value_layer_call_fn while saving (showing 5 of 96). These functions will not be directly callable after loading.\n"
     ]
    },
    {
     "name": "stdout",
     "output_type": "stream",
     "text": [
      "INFO:tensorflow:Assets written to: models/TF_char_6412k/assets\n"
     ]
    },
    {
     "name": "stderr",
     "output_type": "stream",
     "text": [
      "INFO:tensorflow:Assets written to: models/TF_char_6412k/assets\n"
     ]
    },
    {
     "name": "stdout",
     "output_type": "stream",
     "text": [
      "4531/4531 [==============================] - 3237s 714ms/step - loss: 0.2125 - accuracy: 0.9369 - val_loss: 0.1834 - val_accuracy: 0.9460 - lr: 1.1111e-05\n",
      "Epoch 58/65\n",
      "4531/4531 [==============================] - ETA: 0s - loss: 0.2125 - accuracy: 0.9368\n",
      "Epoch 58: val_loss did not improve from 0.18342\n",
      "4531/4531 [==============================] - 3220s 711ms/step - loss: 0.2125 - accuracy: 0.9368 - val_loss: 0.1846 - val_accuracy: 0.9457 - lr: 1.1111e-05\n",
      "Epoch 59/65\n",
      "4531/4531 [==============================] - ETA: 0s - loss: 0.2123 - accuracy: 0.9369\n",
      "Epoch 59: val_loss did not improve from 0.18342\n",
      "4531/4531 [==============================] - 3229s 713ms/step - loss: 0.2123 - accuracy: 0.9369 - val_loss: 0.1840 - val_accuracy: 0.9458 - lr: 1.1111e-05\n",
      "Epoch 60/65\n",
      "4531/4531 [==============================] - ETA: 0s - loss: 0.2123 - accuracy: 0.9369\n",
      "Epoch 60: val_loss did not improve from 0.18342\n",
      "4531/4531 [==============================] - 3233s 713ms/step - loss: 0.2123 - accuracy: 0.9369 - val_loss: 0.1834 - val_accuracy: 0.9461 - lr: 1.1111e-05\n",
      "Epoch 61/65\n",
      "4531/4531 [==============================] - ETA: 0s - loss: 0.2119 - accuracy: 0.9370\n",
      "Epoch 61: val_loss did not improve from 0.18342\n",
      "4531/4531 [==============================] - 3234s 714ms/step - loss: 0.2119 - accuracy: 0.9370 - val_loss: 0.1840 - val_accuracy: 0.9458 - lr: 1.1111e-05\n",
      "Epoch 62/65\n",
      "4531/4531 [==============================] - ETA: 0s - loss: 0.2118 - accuracy: 0.9370\n",
      "Epoch 62: val_loss improved from 0.18342 to 0.18310, saving model to models/TF_char_6412k\n"
     ]
    },
    {
     "name": "stderr",
     "output_type": "stream",
     "text": [
      "WARNING:absl:Found untraced functions such as query_layer_call_fn, query_layer_call_and_return_conditional_losses, key_layer_call_fn, key_layer_call_and_return_conditional_losses, value_layer_call_fn while saving (showing 5 of 96). These functions will not be directly callable after loading.\n"
     ]
    },
    {
     "name": "stdout",
     "output_type": "stream",
     "text": [
      "INFO:tensorflow:Assets written to: models/TF_char_6412k/assets\n"
     ]
    },
    {
     "name": "stderr",
     "output_type": "stream",
     "text": [
      "INFO:tensorflow:Assets written to: models/TF_char_6412k/assets\n"
     ]
    },
    {
     "name": "stdout",
     "output_type": "stream",
     "text": [
      "4531/4531 [==============================] - 3243s 716ms/step - loss: 0.2118 - accuracy: 0.9370 - val_loss: 0.1831 - val_accuracy: 0.9461 - lr: 1.1111e-05\n",
      "Epoch 63/65\n",
      "4531/4531 [==============================] - ETA: 0s - loss: 0.2114 - accuracy: 0.9371\n",
      "Epoch 63: val_loss did not improve from 0.18310\n",
      "4531/4531 [==============================] - 3234s 714ms/step - loss: 0.2114 - accuracy: 0.9371 - val_loss: 0.1832 - val_accuracy: 0.9461 - lr: 1.1111e-05\n",
      "Epoch 64/65\n",
      "4531/4531 [==============================] - ETA: 0s - loss: 0.2114 - accuracy: 0.9371\n",
      "Epoch 64: val_loss did not improve from 0.18310\n",
      "4531/4531 [==============================] - 3242s 716ms/step - loss: 0.2114 - accuracy: 0.9371 - val_loss: 0.1832 - val_accuracy: 0.9460 - lr: 1.1111e-05\n",
      "Epoch 65/65\n",
      "4531/4531 [==============================] - ETA: 0s - loss: 0.2114 - accuracy: 0.9372\n",
      "Epoch 65: val_loss improved from 0.18310 to 0.18299, saving model to models/TF_char_6412k\n"
     ]
    },
    {
     "name": "stderr",
     "output_type": "stream",
     "text": [
      "WARNING:absl:Found untraced functions such as query_layer_call_fn, query_layer_call_and_return_conditional_losses, key_layer_call_fn, key_layer_call_and_return_conditional_losses, value_layer_call_fn while saving (showing 5 of 96). These functions will not be directly callable after loading.\n"
     ]
    },
    {
     "name": "stdout",
     "output_type": "stream",
     "text": [
      "INFO:tensorflow:Assets written to: models/TF_char_6412k/assets\n"
     ]
    },
    {
     "name": "stderr",
     "output_type": "stream",
     "text": [
      "INFO:tensorflow:Assets written to: models/TF_char_6412k/assets\n"
     ]
    },
    {
     "name": "stdout",
     "output_type": "stream",
     "text": [
      "4531/4531 [==============================] - 3249s 717ms/step - loss: 0.2114 - accuracy: 0.9372 - val_loss: 0.1830 - val_accuracy: 0.9462 - lr: 1.1111e-05\n"
     ]
    }
   ],
   "source": [
    "def scheduler(epoch, lr):\n",
    "    if epoch < 22:\n",
    "        lr = LR\n",
    "    elif epoch < 52:\n",
    "        lr = LR/6\n",
    "    else:\n",
    "        lr = LR/36\n",
    "    return lr\n",
    "lr_callback = callbacks.LearningRateScheduler(scheduler)\n",
    "\n",
    "\n",
    "checkpoint = callbacks.ModelCheckpoint(\n",
    "    filepath='models/TF_char_6412k',\n",
    "    monitor='val_loss',\n",
    "    verbose=1,\n",
    "    save_best_only=True,\n",
    "    mode='min'\n",
    "    )\n",
    "\n",
    "hist = masked_model.fit(\n",
    "    train_gen, epochs=65,\n",
    "    steps_per_epoch=N_STEPS,\n",
    "    validation_steps=N_STEPS_VAL,\n",
    "    validation_data=val_gen,\n",
    "    callbacks=[lr_callback, checkpoint]\n",
    "    )"
   ]
  },
  {
   "cell_type": "markdown",
   "metadata": {},
   "source": [
    "# Evaluation"
   ]
  },
  {
   "cell_type": "markdown",
   "metadata": {},
   "source": [
    "### Plot training metrics"
   ]
  },
  {
   "cell_type": "code",
   "execution_count": 13,
   "metadata": {},
   "outputs": [
    {
     "data": {
      "image/png": "[encoded data removed]",
      "text/plain": [
       "<Figure size 1296x504 with 2 Axes>"
      ]
     },
     "metadata": {
      "needs_background": "light"
     },
     "output_type": "display_data"
    }
   ],
   "source": [
    "plot_history(hist)"
   ]
  },
  {
   "cell_type": "markdown",
   "metadata": {},
   "source": [
    "### Evaluate on test set"
   ]
  },
  {
   "cell_type": "code",
   "execution_count": 16,
   "metadata": {},
   "outputs": [
    {
     "name": "stdout",
     "output_type": "stream",
     "text": [
      "567/567 [==============================] - 139s 246ms/step - loss: 0.1835 - accuracy: 0.9460\n"
     ]
    },
    {
     "data": {
      "text/plain": [
       "[0.1835266500711441, 0.9459105730056763]"
      ]
     },
     "execution_count": 16,
     "metadata": {},
     "output_type": "execute_result"
    }
   ],
   "source": [
    "masked_model.evaluate(test_gen, steps=N_STEPS_TEST, batch_size=BATCH_SIZE)"
   ]
  }
 ],
 "metadata": {
  "kernelspec": {
   "display_name": "Python 3.9.12 ('tf')",
   "language": "python",
   "name": "python3"
  },
  "language_info": {
   "codemirror_mode": {
    "name": "ipython",
    "version": 3
   },
   "file_extension": ".py",
   "mimetype": "text/x-python",
   "name": "python",
   "nbconvert_exporter": "python",
   "pygments_lexer": "ipython3",
   "version": "3.9.12"
  },
  "orig_nbformat": 4,
  "vscode": {
   "interpreter": {
    "hash": "11efdfc52e0f02ce3ff7bcd7d668219934d7618071bbd75fc98a62b6d20d0895"
   }
  }
 },
 "nbformat": 4,
 "nbformat_minor": 2
}
